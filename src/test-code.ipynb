{
 "cells": [
  {
   "cell_type": "code",
   "execution_count": 15,
   "metadata": {},
   "outputs": [],
   "source": [
    "import os\n",
    "import requests\n",
    "from typing import List, Tuple\n",
    "from bs4 import BeautifulSoup\n",
    "from dotenv import load_dotenv\n",
    "from newsapi import NewsApiClient\n",
    "from openai import OpenAI\n",
    "\n",
    "load_dotenv(verbose=True)\n",
    "client = OpenAI(api_key=os.getenv(\"openaiAPI\"))\n",
    "\n",
    "NEWS_TOKEN = os.getenv(\"NewsAPI\")\n",
    "newsapi = NewsApiClient(api_key=NEWS_TOKEN)\n",
    "top_headlines = newsapi.get_top_headlines(sources='bbc-news', page_size=1)"
   ]
  },
  {
   "cell_type": "code",
   "execution_count": 16,
   "metadata": {},
   "outputs": [
    {
     "data": {
      "text/plain": [
       "{'status': 'ok',\n",
       " 'totalResults': 10,\n",
       " 'articles': [{'source': {'id': 'bbc-news', 'name': 'BBC News'},\n",
       "   'author': 'BBC News',\n",
       "   'title': 'Biden issues 39 presidential pardons and commutes 1,500 sentences',\n",
       "   'description': 'The White House says it is the highest number of presidential acts of clemency in a single day.',\n",
       "   'url': 'https://www.bbc.co.uk/news/articles/c30nq7r0v2mo',\n",
       "   'urlToImage': 'https://ichef.bbci.co.uk/ace/branded_news/1200/cpsprodpb/660c/live/7ab59660-b875-11ef-a0f2-fd81ae5962f4.jpg',\n",
       "   'publishedAt': '2024-12-12T12:52:16.6624166Z',\n",
       "   'content': 'Announcing the move, Biden said those pardoned had \"shown successful rehabilitation and have shown commitment to making their communities stronger and safer\". Their non-violent convictions included d… [+2181 chars]'}]}"
      ]
     },
     "execution_count": 16,
     "metadata": {},
     "output_type": "execute_result"
    }
   ],
   "source": [
    "top_headlines"
   ]
  },
  {
   "cell_type": "code",
   "execution_count": 17,
   "metadata": {},
   "outputs": [],
   "source": [
    "def get_article_from_url(url: str) -> str:\n",
    "    \"\"\"\n",
    "    입력받은 URL을 토대로 기사의 본문 태그를 찾아 본문 내용을 반환합니다.\n",
    "    \"\"\"\n",
    "    # get HTML content of url\n",
    "    print(url)\n",
    "    response = requests.get(url)\n",
    "    soup = BeautifulSoup(response.text, 'html.parser')\n",
    "\n",
    "    # select p tag to get content\n",
    "    paragraphs = soup.find_all('p')\n",
    "    article_text = '\\n'.join([para.get_text() for para in paragraphs])\n",
    "    \n",
    "    return article_text"
   ]
  },
  {
   "cell_type": "code",
   "execution_count": null,
   "metadata": {},
   "outputs": [],
   "source": []
  },
  {
   "cell_type": "code",
   "execution_count": 32,
   "metadata": {},
   "outputs": [],
   "source": [
    "def convert_txt_to_steps(context: str, level: str):\n",
    "    \"\"\"\n",
    "    입력받은 기사 내용(context)을 입력받은 수준(level)에 맞게 재생성합니다.\n",
    "    \"\"\"\n",
    "    \n",
    "    # set prompt for gpt model\n",
    "    prompt = f\"\"\"\n",
    "    I'll send you the article body. Please return the value in format like below.\n",
    "    dict(“rewrite_article\": string, “category\": string, \"keywords\": list(str))\n",
    "\n",
    "    1. Rewrite the article text to a {level} level and put it as the first part of the return value. You must finish article within 50 centences, and line it up appropriately to make it easier to read\n",
    "    2. Select the category of t]orts, business, innovation, culture, travel, or earth, and enter it as the second value in the return value.\n",
    "    3. Select 5-7 important words from the article in purpose of learning English and put them as the 3rd part of the return value\n",
    "\n",
    "    Article Text: {context}\n",
    "    \"\"\"\n",
    "    \n",
    "    # get response form gpt model\n",
    "    response = client.chat.completions.create(\n",
    "        model=\"gpt-4o-mini\",\n",
    "        messages=[\n",
    "            {\"role\": \"system\", \"content\": \"You are a helpful assistant that rewrites articles for teaching English.\"},\n",
    "            {\"role\": \"user\", \"content\": prompt}\n",
    "        ],\n",
    "        max_tokens=2048,\n",
    "        temperature=0.5\n",
    "    )\n",
    "    \n",
    "    # return response text\n",
    "    response_dict = response.model_dump()\n",
    "    response_message = response_dict[\"choices\"][0][\"message\"][\"content\"]\n",
    "    return response_message\n"
   ]
  },
  {
   "cell_type": "code",
   "execution_count": 18,
   "metadata": {},
   "outputs": [
    {
     "name": "stdout",
     "output_type": "stream",
     "text": [
      "https://www.bbc.co.uk/news/articles/c30nq7r0v2mo\n"
     ]
    },
    {
     "data": {
      "text/plain": [
       "'US President Joe Biden has issued presidential pardons to 39 Americans convicted of non-violent crimes, and commuted the sentences of nearly 1,500 others, including several convicted of multi-million dollar fraud schemes.\\nThe White House described it as the most acts of presidential clemency issued in a single day. It comes after Biden made the decision to pardon his own criminally convicted son, Hunter Biden.\\nAnnouncing the move, Biden said those pardoned had \"shown successful rehabilitation and have shown commitment to making their communities stronger and safer\". \\nThe US Constitution decrees that a president has the broad \"power to grant reprieves and pardons for offences against the United States, except in cases of impeachment\".\\nThe White House released a pardon list of 39 people that said the individuals had committed either a \"non-violent offense\" or a \"non-violent drug offense\". It did not name the specific crimes they were convicted of committing. \\nSeveral of those pardoned were individuals who had been released from prison. Many were veterans or they had become community leaders or advocates.\\nThe White House described one pardon recipient as a 49-year-old Virginia resident who was convicted of a drug offence at age 21. After serving his sentence, he went on to earn a university degree, have a successful career in the US Army and Air Force and volunteer for charitable organisations that support veterans. \\nHe is known \"as exceptionally hard working, dedicated, and trustworthy by those who know him\", the White House said in a statement that gave short biographies on all those who had received pardons.\\nThe 1,499 commuted sentences includes individuals who were placed in home confinement during the Covid-19 pandemic, as well as those whose sentences Biden deemed to be too long due to outdated laws.\\nThey have \"shown that they deserve a second chance\", Biden said of those whose sentences he had commuted.\\nBiden promised \"more steps in the weeks ahead\". \\nAmong those who had their sentences commuted was 76-year-old Timothy McGinn, a former stockbroker convicted in 2013 of defrauding hundreds of clients for millions of dollars, wiping out savings for many of his victims. \\nAnother person who received clemency, a former Ohio county commissioner, Jimmy Dimora, was convicted in 2012 of taking $450,000 (Â£355,000) in bribes that included lavish trips to Las Vegas, prostitutes and a stone-fired pizza oven. \\nAlso on the list were Paul Daugerdas, convicted of overseeing fraudulent tax shelters in 2014, and Elaine Lovett, convicted of defrauding federal health insurance programme Medicare as part of a $26m scheme in 2017.\\nThe president will leave the White House on 20 January 2025, when his successor Donald Trump is inaugurated. \\nBiden previously had a record of pardoning fewer people than most presidents in modern US history. \\nHe had issued a few categorical pardons in the past, however. These are pardons given to a sweeping number of people who fall under a category outlined by the president.\\nIn October 2022, Biden issued a full pardon for those who had been convicted of simple possession of marijuana, and later expanded that to include other marijuana-related offenses. \\nEarlier this year, Biden issued another full pardon to military personnel and veterans who were convicted of an offence based on their sexual orientation.\\nBiden\\'s decision earlier this month to pardon his son, Hunter, continued a trend of presidents on both sides of the US political divide - including Trump - granting clemency to people close to them.\\nThe younger Biden was facing sentencing for two criminal cases for tax fraud and gun crimes.\\nThe move has proven controversial, since the outgoing president previously ruled out doing it. But he claimed the cases against his son were politically motivated.\\nBiden has also weighed issuing pre-emptive pardons for prominent critics of his successor Trump in a bid to shield them from retribution after the president-elect takes office, but has reportedly been concerned about the precedent it would set.\\nIn a separate development on Thursday, an ex-FBI informant pleaded guilty to lying to the FBI, which had led to investigations into the Biden family. \\nAlexander Smirnov acknowledged that he concocted \"fabrications\" about Biden and his son accepting bribes from Ukrainian energy firm Burisma. The claim was seized upon by Republicans in Congress as proof of corruption.\\nTrump granted 237 acts of clemency during his first term in the White House, according to the Pew Research Center. These included 143 pardons and 94 commuted sentences. \\nMany were in a flurry before he left office.\\nIn recent days, Trump has pledged to issue pardons on his first day in office to people who were convicted for participating in the 6 January 2021 riot on Capitol Hill, in which his supporters tried to block the certification of Biden\\'s election victory. \\nHe said this week that the pardons would be for people who were \"non-violent\".\\n\"A vast majority should not be in jail, and they\\'ve suffered gravely,\" he said in an interview with Time magazine on Thursday.\\nWhat did Hunter Biden do and what is a presidential pardon?\\nBiden gives son Hunter \\'unconditional\\' pardon\\nAmericans divided over Bidenâ\\x80\\x99s pardon of son Hunter\\nAlleged Chinese spy with links to Andrew banned from UK\\n\\'Today we are celebrating a new Syria\\': Mass rallies mark end of Assad regime\\nSteven Bartlett sharing harmful health misinformation in Diary of CEO podcast\\n\\'Train phone snatcher stole Â£21,000 from my bank apps\\'\\nGirl group Flo: \\'British R&B acts struggle to be heard\\'\\nWeekly quiz: Which film bagged the most Golden Globe nominations?\\nTrump says Syria \\'not our fight\\'. Staying out may not be so easy\\nThe Indian teen who became the world\\'s youngest chess champion\\n\\'I wish he\\'d lived to see new Syria\\' - Crowds bury anti-Assad activist\\nNet closing in on South Korea\\'s president as MPs get death threats over impeachment vote\\nThe Upbeat newsletter: Uplifting stories delivered to your inbox every Monday\\nWhen is World Cup qualifying draw and how does it work?\\nGrown-up children, still the same chaos at Christmas\\nThe Brockmans are back for a festive special, here\\'s your first look\\nWhy are music and Christmas so intrinsically linked?\\nAnnie and Nick head down to their favourite Irish pub to find out\\nEnjoy Griff\\'s magical Live Lounge set\\nThe singer performs last night\\'s mascara from her latest album, Vertigo, and a surprising cover\\nAn astonishing international drug smuggling plot\\nHow could a Welsh fishing village and local police foil a huge drug trafficking plan?\\nÂ© 2024 BBC. The BBC is not responsible for the content of external sites. Read about our approach to external linking.'"
      ]
     },
     "execution_count": 18,
     "metadata": {},
     "output_type": "execute_result"
    }
   ],
   "source": [
    "context = get_article_from_url(top_headlines[\"articles\"][0][\"url\"])\n",
    "context"
   ]
  },
  {
   "cell_type": "code",
   "execution_count": 29,
   "metadata": {},
   "outputs": [
    {
     "data": {
      "text/plain": [
       "'dict(\\n    rewrite_article=\"\"\"\\nUS President Joe Biden has helped 39 people who were found guilty of non-violent crimes. \\nHe also changed the sentences of almost 1,500 others, including some who were involved in big fraud cases. \\nThis is the most pardons given by a president in one day. \\nBiden decided to do this after he pardoned his own son, Hunter Biden, who had been found guilty of some crimes.\\n\\nBiden said that the people he pardoned have worked hard to improve their lives and help their communities. \\nThe US Constitution allows the president to give pardons for crimes against the country, except when it comes to impeachment.\\n\\nThe list of 39 people who were pardoned included those who committed non-violent or drug-related crimes. \\nThe specific crimes were not mentioned. \\nMany of these people had already been released from prison. \\nSome were veterans and had become leaders in their communities.\\n\\nOne person pardoned was a 49-year-old man from Virginia. \\nHe was convicted of a drug crime when he was 21. \\nAfter serving his time, he earned a college degree and had a successful career in the Army and Air Force. \\nHe also volunteered to help veterans.\\n\\nBiden said that the 1,499 people who had their sentences changed had shown they deserved another chance. \\nSome were kept at home during the Covid-19 pandemic, while others had sentences that were too long because of old laws.\\n\\nBiden mentioned that he will take more actions in the coming weeks. \\nOne person whose sentence was changed was 76-year-old Timothy McGinn. \\nHe was a former stockbroker who cheated many clients out of their money.\\n\\nAnother person, Jimmy Dimora, was a former county commissioner who took bribes, including expensive trips and gifts. \\nOthers on the list included Paul Daugerdas and Elaine Lovett, who were involved in tax fraud and Medicare fraud.\\n\\nBiden will leave the White House on January 20, 2025, when Donald Trump becomes president again. \\nBiden has given fewer pardons than many recent presidents. \\nHe has pardoned people for simple marijuana possession and for military personnel convicted based on their sexual orientation.\\n\\nBiden\\'s decision to pardon his son was controversial because he previously said he would not do it. \\nHe argued that the cases against Hunter were unfairly motivated by politics.\\n\\nIn other news, an ex-FBI informant admitted to lying about the Biden family, claiming they accepted bribes. \\nThis claim was used by some Republicans to suggest corruption.\\n\\nDuring his first term, Trump gave 237 acts of clemency, which included many pardons. \\nHe has also promised to pardon people involved in the January 6 Capitol riots, saying they should not be in jail.\\n\\nBiden\\'s actions show how presidents can help people who have made mistakes and want to change their lives.\\n\"\"\",\\n    category=\"culture\",\\n    key_words=[\"pardon\", \"sentence\", \"crime\", \"president\", \"community\", \"rehabilitation\", \"clemency\"]\\n)'"
      ]
     },
     "execution_count": 29,
     "metadata": {},
     "output_type": "execute_result"
    }
   ],
   "source": [
    "leveled_text = convert_txt_to_steps(context, \"elementary school\")\n",
    "leveled_text"
   ]
  },
  {
   "cell_type": "code",
   "execution_count": 31,
   "metadata": {},
   "outputs": [
    {
     "data": {
      "text/plain": [
       "{'rewrite_article': \"\\nUS President Joe Biden has helped 39 people who were found guilty of non-violent crimes. \\nHe also changed the sentences of almost 1,500 others, including some who were involved in big fraud cases. \\nThis is the most pardons given by a president in one day. \\nBiden decided to do this after he pardoned his own son, Hunter Biden, who had been found guilty of some crimes.\\n\\nBiden said that the people he pardoned have worked hard to improve their lives and help their communities. \\nThe US Constitution allows the president to give pardons for crimes against the country, except when it comes to impeachment.\\n\\nThe list of 39 people who were pardoned included those who committed non-violent or drug-related crimes. \\nThe specific crimes were not mentioned. \\nMany of these people had already been released from prison. \\nSome were veterans and had become leaders in their communities.\\n\\nOne person pardoned was a 49-year-old man from Virginia. \\nHe was convicted of a drug crime when he was 21. \\nAfter serving his time, he earned a college degree and had a successful career in the Army and Air Force. \\nHe also volunteered to help veterans.\\n\\nBiden said that the 1,499 people who had their sentences changed had shown they deserved another chance. \\nSome were kept at home during the Covid-19 pandemic, while others had sentences that were too long because of old laws.\\n\\nBiden mentioned that he will take more actions in the coming weeks. \\nOne person whose sentence was changed was 76-year-old Timothy McGinn. \\nHe was a former stockbroker who cheated many clients out of their money.\\n\\nAnother person, Jimmy Dimora, was a former county commissioner who took bribes, including expensive trips and gifts. \\nOthers on the list included Paul Daugerdas and Elaine Lovett, who were involved in tax fraud and Medicare fraud.\\n\\nBiden will leave the White House on January 20, 2025, when Donald Trump becomes president again. \\nBiden has given fewer pardons than many recent presidents. \\nHe has pardoned people for simple marijuana possession and for military personnel convicted based on their sexual orientation.\\n\\nBiden's decision to pardon his son was controversial because he previously said he would not do it. \\nHe argued that the cases against Hunter were unfairly motivated by politics.\\n\\nIn other news, an ex-FBI informant admitted to lying about the Biden family, claiming they accepted bribes. \\nThis claim was used by some Republicans to suggest corruption.\\n\\nDuring his first term, Trump gave 237 acts of clemency, which included many pardons. \\nHe has also promised to pardon people involved in the January 6 Capitol riots, saying they should not be in jail.\\n\\nBiden's actions show how presidents can help people who have made mistakes and want to change their lives.\\n\",\n",
       " 'category': 'culture',\n",
       " 'key_words': ['pardon',\n",
       "  'sentence',\n",
       "  'crime',\n",
       "  'president',\n",
       "  'community',\n",
       "  'rehabilitation',\n",
       "  'clemency']}"
      ]
     },
     "execution_count": 31,
     "metadata": {},
     "output_type": "execute_result"
    }
   ],
   "source": [
    "eval(leveled_text)"
   ]
  },
  {
   "cell_type": "code",
   "execution_count": 63,
   "metadata": {},
   "outputs": [
    {
     "name": "stdout",
     "output_type": "stream",
     "text": [
      "{\"exist\":false}\n",
      "False\n",
      "<class 'bool'>\n"
     ]
    }
   ],
   "source": [
    "response = requests.post(\"https://news-ease.com/_/api/existed_word\", params={\"word\": \"check\"})\n",
    "print(response.text)\n",
    "print(response.json().get(\"exist\"))\n",
    "print(type(response.json().get(\"exist\")))"
   ]
  },
  {
   "cell_type": "code",
   "execution_count": 62,
   "metadata": {},
   "outputs": [
    {
     "name": "stdout",
     "output_type": "stream",
     "text": [
      "{\"max_word_id\":-1}\n",
      "-1\n",
      "<class 'int'>\n"
     ]
    }
   ],
   "source": [
    "response = requests.get(\"https://news-ease.com/_/api/max_word_id\")\n",
    "print(response.text)\n",
    "print(response.json().get(\"max_word_id\"))\n",
    "print(type(response.json().get(\"max_word_id\")))"
   ]
  },
  {
   "cell_type": "code",
   "execution_count": 54,
   "metadata": {},
   "outputs": [
    {
     "data": {
      "text/plain": [
       "'An exception was raised. Check the application logs for details.'"
      ]
     },
     "execution_count": 54,
     "metadata": {},
     "output_type": "execute_result"
    }
   ],
   "source": [
    "response.text"
   ]
  },
  {
   "cell_type": "code",
   "execution_count": 36,
   "metadata": {},
   "outputs": [
    {
     "ename": "TypeError",
     "evalue": "string indices must be integers, not 'str'",
     "output_type": "error",
     "traceback": [
      "\u001b[0;31m---------------------------------------------------------------------------\u001b[0m",
      "\u001b[0;31mTypeError\u001b[0m                                 Traceback (most recent call last)",
      "Cell \u001b[0;32mIn[36], line 1\u001b[0m\n\u001b[0;32m----> 1\u001b[0m \u001b[43mleveled_text\u001b[49m\u001b[43m[\u001b[49m\u001b[38;5;124;43m\"\u001b[39;49m\u001b[38;5;124;43mrewrite_article\u001b[39;49m\u001b[38;5;124;43m\"\u001b[39;49m\u001b[43m]\u001b[49m\n",
      "\u001b[0;31mTypeError\u001b[0m: string indices must be integers, not 'str'"
     ]
    }
   ],
   "source": [
    "leveled_text[\"rewrite_article\"]"
   ]
  },
  {
   "cell_type": "code",
   "execution_count": null,
   "metadata": {},
   "outputs": [],
   "source": [
    "class ResponseDict:\n",
    "    "
   ]
  },
  {
   "cell_type": "code",
   "execution_count": 33,
   "metadata": {},
   "outputs": [
    {
     "data": {
      "text/plain": [
       "'dict(\\n    rewrite_article=\"\"\"\\n    President Joe Biden has helped 39 Americans who made mistakes in the past. \\n    These people were convicted of non-violent crimes, which means they did not hurt anyone. \\n    He also changed the sentences of almost 1,500 other people, including some who were involved in big fraud cases. \\n    This is the most pardons given by a president in one day. \\n    Biden decided to help these people after he pardoned his son, Hunter Biden, who had some legal troubles.\\n\\n    Biden said that the people he helped have worked hard to improve themselves and their communities. \\n    The US Constitution allows a president to give pardons, which means forgiving someone for their crime. \\n    The White House shared a list of the 39 people who were pardoned. \\n    These people had either a non-violent crime or a drug-related crime. \\n    However, the specific crimes were not shared.\\n\\n    Many of the pardoned individuals were released from prison. \\n    Some were veterans who served in the military, and others became leaders in their communities. \\n    For example, one man from Virginia was convicted of a drug crime when he was 21. \\n    After serving his time, he earned a college degree, had a successful career in the Army and Air Force, \\n    and helped charities that support veterans. \\n\\n    The 1,499 people who had their sentences changed included those who were kept at home during the Covid-19 pandemic. \\n    Biden said these people deserve a second chance. \\n    He also mentioned that he would take more actions in the future.\\n\\n    One person whose sentence was changed is Timothy McGinn, a 76-year-old man. \\n    He had been found guilty of cheating many clients out of their money. \\n    Another person is Jimmy Dimora, who took bribes and was convicted in 2012. \\n    There were also others like Paul Daugerdas and Elaine Lovett, who were involved in tax fraud and health insurance fraud.\\n\\n    Biden will leave the White House on January 20, 2025, when Donald Trump becomes president again. \\n    Biden has given fewer pardons than many past presidents. \\n    In October 2022, he pardoned people for simple marijuana possession. \\n    Earlier this year, he also pardoned military members who were punished for their sexual orientation.\\n\\n    Biden\\'s decision to pardon his son Hunter has caused some debate. \\n    Hunter was facing charges for tax fraud and gun crimes, but Biden believes these charges are unfair. \\n    Biden is also thinking about helping others who might be punished by Trump.\\n\\n    Recently, an ex-FBI informant admitted to lying about Biden and his son. \\n    This was part of an investigation into possible corruption. \\n    In comparison, former President Trump granted many pardons during his time in office, \\n    including some for people involved in the Capitol Hill riot on January 6, 2021. \\n    Trump believes many of these people should not be in jail.\\n    \"\"\",\\n    category=\"culture\",\\n    key_words=[\"pardon\", \"convicted\", \"non-violent\", \"community\", \"sentence\", \"fraud\", \"rehabilitation\"]\\n)'"
      ]
     },
     "execution_count": 33,
     "metadata": {},
     "output_type": "execute_result"
    }
   ],
   "source": [
    "changed_role_leveled_text = convert_txt_to_steps(context, \"elementary school\")\n",
    "changed_role_leveled_text"
   ]
  },
  {
   "cell_type": "code",
   "execution_count": 73,
   "metadata": {},
   "outputs": [],
   "source": [
    "test = str(\"\"\"dict(rewrite_article=\"Daniel Burke, a former British soldier, was found dead in Ukraine after being killed by someone he knew. He had gone to Ukraine to help fight against Russia. The coroner, Zak Golombeck, said that Mr. Burke, who was 36 years old, died bravely but was killed in a cowardly way. The person accused of his death is an Australian man who has fled Ukraine and is wanted by the police there.\\n\\nDuring the inquest, it was revealed that Mr. Burke was shot while practicing drills far from the front lines of the war. The shooter, known as Abdelfetah 'Adam' Nourine, claimed he accidentally shot Mr. Burke. However, the coroner rejected this claim, stating that Mr. Burke was unarmed and could not defend himself.\\n\\nMr. Burke had previously fought in Syria against the Islamic State group after being deeply affected by the Manchester Arena bombing in 2017. He had formed a group called Dark Angels, which helped evacuate injured soldiers from the battlefield. \\n\\nOn August 11, the day he died, Mr. Burke spoke to his family and planned to contact them later that day. CCTV footage showed him with Mr. Nourine before they went to an abandoned training ground. After Mr. Burke was reported missing, police interviewed Mr. Nourine, who gave different accounts of what happened. He eventually led police to Mr. Burke's body, claiming it was an accident.\\n\\nA post-mortem examination revealed that Mr. Burke had been shot multiple times. Investigations indicated that it was unlikely the shooting was accidental, especially given the type of gun used. Ukrainian police have requested help from the Australian Consulate to question Mr. Nourine, but there has been no response yet.\\n\\nMr. Burke's mother expressed her heartbreak over her son's death, saying that she would never get over it. She believes that Mr. Nourine, as a trained soldier, should not have let the gun fire accidentally. The case remains under investigation, and there are calls for justice for Mr. Burke.\",\"category\":\"culture\",\"keywords\":[\"soldier\",\"Ukraine\",\"inquest\",\"accident\",\"coroner\",\"justice\",\"military\"])\"\"\")"
   ]
  },
  {
   "cell_type": "code",
   "execution_count": 75,
   "metadata": {},
   "outputs": [
    {
     "data": {
      "text/plain": [
       "1978"
      ]
     },
     "execution_count": 75,
     "metadata": {},
     "output_type": "execute_result"
    }
   ],
   "source": [
    "test.find(\"category\")"
   ]
  },
  {
   "cell_type": "code",
   "execution_count": 81,
   "metadata": {},
   "outputs": [
    {
     "data": {
      "text/plain": [
       "1978"
      ]
     },
     "execution_count": 81,
     "metadata": {},
     "output_type": "execute_result"
    }
   ],
   "source": [
    "test.find('category\":')"
   ]
  },
  {
   "cell_type": "code",
   "execution_count": 83,
   "metadata": {},
   "outputs": [
    {
     "name": "stdout",
     "output_type": "stream",
     "text": [
      "dict(rewrite_article=\"Daniel Burke, a former British soldier, was found dead in Ukraine after being killed by someone he knew. He had gone to Ukraine to help fight against Russia. The coroner, Zak Golombeck, said that Mr. Burke, who was 36 years old, died bravely but was killed in a cowardly way. The person accused of his death is an Australian man who has fled Ukraine and is wanted by the police there.\n",
      "\n",
      "During the inquest, it was revealed that Mr. Burke was shot while practicing drills far from the front lines of the war. The shooter, known as Abdelfetah 'Adam' Nourine, claimed he accidentally shot Mr. Burke. However, the coroner rejected this claim, stating that Mr. Burke was unarmed and could not defend himself.\n",
      "\n",
      "Mr. Burke had previously fought in Syria against the Islamic State group after being deeply affected by the Manchester Arena bombing in 2017. He had formed a group called Dark Angels, which helped evacuate injured soldiers from the battlefield. \n",
      "\n",
      "On August 11, the day he died, Mr. Burke spoke to his family and planned to contact them later that day. CCTV footage showed him with Mr. Nourine before they went to an abandoned training ground. After Mr. Burke was reported missing, police interviewed Mr. Nourine, who gave different accounts of what happened. He eventually led police to Mr. Burke's body, claiming it was an accident.\n",
      "\n",
      "A post-mortem examination revealed that Mr. Burke had been shot multiple times. Investigations indicated that it was unlikely the shooting was accidental, especially given the type of gun used. Ukrainian police have requested help from the Australian Consulate to question Mr. Nourine, but there has been no response yet.\n",
      "\n",
      "Mr. Burke's mother expressed her heartbreak over her son's death, saying that she would never get over it. She believes that Mr. Nourine, as a trained soldier, should not have let the gun fire accidentally. The case remains under investigation, and there are calls for justice for Mr. Burke.\",\"category\"=\"culture\",\"keywords\":[\"soldier\",\"Ukraine\",\"inquest\",\"accident\",\"coroner\",\"justice\",\"military\"])\n"
     ]
    }
   ],
   "source": [
    "test = test.replace('category\":', 'category\"=')\n",
    "print(test)"
   ]
  },
  {
   "cell_type": "code",
   "execution_count": 80,
   "metadata": {},
   "outputs": [
    {
     "data": {
      "text/plain": [
       "-1"
      ]
     },
     "execution_count": 80,
     "metadata": {},
     "output_type": "execute_result"
    }
   ],
   "source": [
    "test.find('category:')"
   ]
  },
  {
   "cell_type": "code",
   "execution_count": 100,
   "metadata": {},
   "outputs": [
    {
     "name": "stdout",
     "output_type": "stream",
     "text": [
      "{'rewrite_article': 'On November 10, police believe Harshita Brella was strangled in Corby, Northamptonshire.'}\n"
     ]
    }
   ],
   "source": [
    "import json\n",
    "\n",
    "leveled_info = '{\"rewrite_article\": \"On November 10, police believe Harshita Brella was strangled in Corby, Northamptonshire.\"}'\n",
    "parsed_info = json.loads(leveled_info)\n",
    "print(parsed_info)\n"
   ]
  },
  {
   "cell_type": "code",
   "execution_count": 101,
   "metadata": {},
   "outputs": [
    {
     "data": {
      "text/plain": [
       "{'rewrite_article': 'On November 10, police believe Harshita Brella was strangled in Corby, Northamptonshire.'}"
      ]
     },
     "execution_count": 101,
     "metadata": {},
     "output_type": "execute_result"
    }
   ],
   "source": [
    "parsed_info"
   ]
  },
  {
   "cell_type": "code",
   "execution_count": 94,
   "metadata": {},
   "outputs": [
    {
     "data": {
      "text/plain": [
       "'[ investigation, incident, arrested, fairground, safety, injuries, emergency ]'"
      ]
     },
     "execution_count": 94,
     "metadata": {},
     "output_type": "execute_result"
    }
   ],
   "source": [
    "test_list = \"[ investigation, incident, arrested, fairground, safety, injuries, emergency ]\"\n",
    "test_list"
   ]
  },
  {
   "cell_type": "code",
   "execution_count": 99,
   "metadata": {},
   "outputs": [
    {
     "data": {
      "text/plain": [
       "'[\"investigation\",\"incident\",\"arrested\",\"fairground\",\"safety\",\"injuries\",\"emergency\"]'"
      ]
     },
     "execution_count": 99,
     "metadata": {},
     "output_type": "execute_result"
    }
   ],
   "source": [
    "test_list.replace(\" \", \"\").replace(\"[\", '[\"').replace(\"]\", '\"]').replace(\",\", '\",\"')"
   ]
  },
  {
   "cell_type": "code",
   "execution_count": 95,
   "metadata": {},
   "outputs": [
    {
     "data": {
      "text/plain": [
       "' investigation, incident, arrested, fairground, safety, injuries, emergency ]'"
      ]
     },
     "execution_count": 95,
     "metadata": {},
     "output_type": "execute_result"
    }
   ],
   "source": [
    "test_list_pc = test_list[test_list.find('[') + 1:]\n",
    "test_list_pc"
   ]
  },
  {
   "cell_type": "code",
   "execution_count": 96,
   "metadata": {},
   "outputs": [
    {
     "data": {
      "text/plain": [
       "' investigation, incident, arrested, fairground, safety, injuries, emergency '"
      ]
     },
     "execution_count": 96,
     "metadata": {},
     "output_type": "execute_result"
    }
   ],
   "source": [
    "test_list_pc = test_list_pc[:test_list_pc.find(']')]\n",
    "test_list_pc"
   ]
  },
  {
   "cell_type": "code",
   "execution_count": 97,
   "metadata": {},
   "outputs": [
    {
     "data": {
      "text/plain": [
       "' investigation, incident, arrested, fairground, safety, injuries, emergency'"
      ]
     },
     "execution_count": 97,
     "metadata": {},
     "output_type": "execute_result"
    }
   ],
   "source": [
    "test_list_pc.rstrip()"
   ]
  },
  {
   "cell_type": "code",
   "execution_count": 98,
   "metadata": {},
   "outputs": [
    {
     "data": {
      "text/plain": [
       "'investigation, incident, arrested, fairground, safety, injuries, emergency '"
      ]
     },
     "execution_count": 98,
     "metadata": {},
     "output_type": "execute_result"
    }
   ],
   "source": [
    "test_list_pc.lstrip()"
   ]
  },
  {
   "cell_type": "code",
   "execution_count": null,
   "metadata": {},
   "outputs": [],
   "source": [
    "test_list_pc"
   ]
  },
  {
   "cell_type": "code",
   "execution_count": 78,
   "metadata": {},
   "outputs": [
    {
     "data": {
      "text/plain": [
       "1999"
      ]
     },
     "execution_count": 78,
     "metadata": {},
     "output_type": "execute_result"
    }
   ],
   "source": [
    "test.find('keywords\":')"
   ]
  },
  {
   "cell_type": "code",
   "execution_count": 86,
   "metadata": {},
   "outputs": [
    {
     "data": {
      "text/plain": [
       "'dict(rewrite_article=\"Daniel Burke, a former British soldier, was found dead in Ukraine after being killed by someone he knew. He had gone to Ukraine to help fight against Russia. The coroner, Zak Golombeck, said that Mr. Burke, who was 36 years old, died bravely but was killed in a cowardly way. The person accused of his death is an Australian man who has fled Ukraine and is wanted by the police there.\\n\\nDuring the inquest, it was revealed that Mr. Burke was shot while practicing drills far from the front lines of the war. The shooter, known as Abdelfetah \\'Adam\\' Nourine, claimed he accidentally shot Mr. Burke. However, the coroner rejected this claim, stating that Mr. Burke was unarmed and could not defend himself.\\n\\nMr. Burke had previously fought in Syria against the Islamic State group after being deeply affected by the Manchester Arena bombing in 2017. He had formed a group called Dark Angels, which helped evacuate injured soldiers from the battlefield. \\n\\nOn August 11, the day he died, Mr. Burke spoke to his family and planned to contact them later that day. CCTV footage showed him with Mr. Nourine before they went to an abandoned training ground. After Mr. Burke was reported missing, police interviewed Mr. Nourine, who gave different accounts of what happened. He eventually led police to Mr. Burke\\'s body, claiming it was an accident.\\n\\nA post-mortem examination revealed that Mr. Burke had been shot multiple times. Investigations indicated that it was unlikely the shooting was accidental, especially given the type of gun used. Ukrainian police have requested help from the Australian Consulate to question Mr. Nourine, but there has been no response yet.\\n\\nMr. Burke\\'s mother expressed her heartbreak over her son\\'s death, saying that she would never get over it. She believes that Mr. Nourine, as a trained soldier, should not have let the gun fire accidentally. The case remains under investigation, and there are calls for justice for Mr. Burke.\",\"category\"=\"culture\",\"keywords\"=[\"soldier\",\"Ukraine\",\"inquest\",\"accident\",\"coroner\",\"justice\",\"military\"])'"
      ]
     },
     "execution_count": 86,
     "metadata": {},
     "output_type": "execute_result"
    }
   ],
   "source": [
    "test"
   ]
  },
  {
   "cell_type": "code",
   "execution_count": 84,
   "metadata": {},
   "outputs": [
    {
     "name": "stdout",
     "output_type": "stream",
     "text": [
      "dict(rewrite_article=\"Daniel Burke, a former British soldier, was found dead in Ukraine after being killed by someone he knew. He had gone to Ukraine to help fight against Russia. The coroner, Zak Golombeck, said that Mr. Burke, who was 36 years old, died bravely but was killed in a cowardly way. The person accused of his death is an Australian man who has fled Ukraine and is wanted by the police there.\n",
      "\n",
      "During the inquest, it was revealed that Mr. Burke was shot while practicing drills far from the front lines of the war. The shooter, known as Abdelfetah 'Adam' Nourine, claimed he accidentally shot Mr. Burke. However, the coroner rejected this claim, stating that Mr. Burke was unarmed and could not defend himself.\n",
      "\n",
      "Mr. Burke had previously fought in Syria against the Islamic State group after being deeply affected by the Manchester Arena bombing in 2017. He had formed a group called Dark Angels, which helped evacuate injured soldiers from the battlefield. \n",
      "\n",
      "On August 11, the day he died, Mr. Burke spoke to his family and planned to contact them later that day. CCTV footage showed him with Mr. Nourine before they went to an abandoned training ground. After Mr. Burke was reported missing, police interviewed Mr. Nourine, who gave different accounts of what happened. He eventually led police to Mr. Burke's body, claiming it was an accident.\n",
      "\n",
      "A post-mortem examination revealed that Mr. Burke had been shot multiple times. Investigations indicated that it was unlikely the shooting was accidental, especially given the type of gun used. Ukrainian police have requested help from the Australian Consulate to question Mr. Nourine, but there has been no response yet.\n",
      "\n",
      "Mr. Burke's mother expressed her heartbreak over her son's death, saying that she would never get over it. She believes that Mr. Nourine, as a trained soldier, should not have let the gun fire accidentally. The case remains under investigation, and there are calls for justice for Mr. Burke.\",\"category\"=\"culture\",\"keywords\"=[\"soldier\",\"Ukraine\",\"inquest\",\"accident\",\"coroner\",\"justice\",\"military\"])\n"
     ]
    }
   ],
   "source": [
    "test = test.replace('keywords\":', 'keywords\"=')\n",
    "print(test)"
   ]
  },
  {
   "cell_type": "code",
   "execution_count": 85,
   "metadata": {},
   "outputs": [
    {
     "ename": "SyntaxError",
     "evalue": "unterminated string literal (detected at line 1) (<string>, line 1)",
     "output_type": "error",
     "traceback": [
      "Traceback \u001b[0;36m(most recent call last)\u001b[0m:\n",
      "\u001b[0m  File \u001b[1;32m~/miniconda3/envs/NewsEase/lib/python3.12/site-packages/IPython/core/interactiveshell.py:3577\u001b[0m in \u001b[1;35mrun_code\u001b[0m\n    exec(code_obj, self.user_global_ns, self.user_ns)\u001b[0m\n",
      "\u001b[0;36m  Cell \u001b[0;32mIn[85], line 1\u001b[0;36m\n\u001b[0;31m    eval(test)\u001b[0;36m\n",
      "\u001b[0;36m  File \u001b[0;32m<string>:1\u001b[0;36m\u001b[0m\n\u001b[0;31m    dict(rewrite_article=\"Daniel Burke, a former British soldier, was found dead in Ukraine after being killed by someone he knew. He had gone to Ukraine to help fight against Russia. The coroner, Zak Golombeck, said that Mr. Burke, who was 36 years old, died bravely but was killed in a cowardly way. The person accused of his death is an Australian man who has fled Ukraine and is wanted by the police there.\u001b[0m\n\u001b[0m                         ^\u001b[0m\n\u001b[0;31mSyntaxError\u001b[0m\u001b[0;31m:\u001b[0m unterminated string literal (detected at line 1)\n"
     ]
    }
   ],
   "source": [
    "eval(test)"
   ]
  },
  {
   "cell_type": "code",
   "execution_count": 79,
   "metadata": {},
   "outputs": [
    {
     "data": {
      "text/plain": [
       "-1"
      ]
     },
     "execution_count": 79,
     "metadata": {},
     "output_type": "execute_result"
    }
   ],
   "source": [
    "test.find('keywords:')"
   ]
  },
  {
   "cell_type": "code",
   "execution_count": 37,
   "metadata": {},
   "outputs": [
    {
     "data": {
      "text/plain": [
       "{'rewrite_article': \"\\n    President Joe Biden has helped 39 Americans who made mistakes in the past. \\n    These people were convicted of non-violent crimes, which means they did not hurt anyone. \\n    He also changed the sentences of almost 1,500 other people, including some who were involved in big fraud cases. \\n    This is the most pardons given by a president in one day. \\n    Biden decided to help these people after he pardoned his son, Hunter Biden, who had some legal troubles.\\n\\n    Biden said that the people he helped have worked hard to improve themselves and their communities. \\n    The US Constitution allows a president to give pardons, which means forgiving someone for their crime. \\n    The White House shared a list of the 39 people who were pardoned. \\n    These people had either a non-violent crime or a drug-related crime. \\n    However, the specific crimes were not shared.\\n\\n    Many of the pardoned individuals were released from prison. \\n    Some were veterans who served in the military, and others became leaders in their communities. \\n    For example, one man from Virginia was convicted of a drug crime when he was 21. \\n    After serving his time, he earned a college degree, had a successful career in the Army and Air Force, \\n    and helped charities that support veterans. \\n\\n    The 1,499 people who had their sentences changed included those who were kept at home during the Covid-19 pandemic. \\n    Biden said these people deserve a second chance. \\n    He also mentioned that he would take more actions in the future.\\n\\n    One person whose sentence was changed is Timothy McGinn, a 76-year-old man. \\n    He had been found guilty of cheating many clients out of their money. \\n    Another person is Jimmy Dimora, who took bribes and was convicted in 2012. \\n    There were also others like Paul Daugerdas and Elaine Lovett, who were involved in tax fraud and health insurance fraud.\\n\\n    Biden will leave the White House on January 20, 2025, when Donald Trump becomes president again. \\n    Biden has given fewer pardons than many past presidents. \\n    In October 2022, he pardoned people for simple marijuana possession. \\n    Earlier this year, he also pardoned military members who were punished for their sexual orientation.\\n\\n    Biden's decision to pardon his son Hunter has caused some debate. \\n    Hunter was facing charges for tax fraud and gun crimes, but Biden believes these charges are unfair. \\n    Biden is also thinking about helping others who might be punished by Trump.\\n\\n    Recently, an ex-FBI informant admitted to lying about Biden and his son. \\n    This was part of an investigation into possible corruption. \\n    In comparison, former President Trump granted many pardons during his time in office, \\n    including some for people involved in the Capitol Hill riot on January 6, 2021. \\n    Trump believes many of these people should not be in jail.\\n    \",\n",
       " 'category': 'culture',\n",
       " 'key_words': ['pardon',\n",
       "  'convicted',\n",
       "  'non-violent',\n",
       "  'community',\n",
       "  'sentence',\n",
       "  'fraud',\n",
       "  'rehabilitation']}"
      ]
     },
     "execution_count": 37,
     "metadata": {},
     "output_type": "execute_result"
    }
   ],
   "source": [
    "evaled = eval(changed_role_leveled_text)\n",
    "evaled"
   ]
  },
  {
   "cell_type": "code",
   "execution_count": 64,
   "metadata": {},
   "outputs": [
    {
     "data": {
      "text/plain": [
       "'[pardon, convicted, non-violent, community, sentence, fraud, rehabilitation]'"
      ]
     },
     "execution_count": 64,
     "metadata": {},
     "output_type": "execute_result"
    }
   ],
   "source": [
    "\"[\" + \", \".join(evaled[\"key_words\"]) + \"]\""
   ]
  },
  {
   "cell_type": "code",
   "execution_count": 45,
   "metadata": {},
   "outputs": [
    {
     "data": {
      "text/plain": [
       "'pardon, convicted, non-violent, community, sentence, fraud, rehabilitation'"
      ]
     },
     "execution_count": 45,
     "metadata": {},
     "output_type": "execute_result"
    }
   ],
   "source": [
    "\", \".join(evaled[\"key_words\"])"
   ]
  },
  {
   "cell_type": "code",
   "execution_count": 38,
   "metadata": {},
   "outputs": [
    {
     "data": {
      "text/plain": [
       "\"\\n    President Joe Biden has helped 39 Americans who made mistakes in the past. \\n    These people were convicted of non-violent crimes, which means they did not hurt anyone. \\n    He also changed the sentences of almost 1,500 other people, including some who were involved in big fraud cases. \\n    This is the most pardons given by a president in one day. \\n    Biden decided to help these people after he pardoned his son, Hunter Biden, who had some legal troubles.\\n\\n    Biden said that the people he helped have worked hard to improve themselves and their communities. \\n    The US Constitution allows a president to give pardons, which means forgiving someone for their crime. \\n    The White House shared a list of the 39 people who were pardoned. \\n    These people had either a non-violent crime or a drug-related crime. \\n    However, the specific crimes were not shared.\\n\\n    Many of the pardoned individuals were released from prison. \\n    Some were veterans who served in the military, and others became leaders in their communities. \\n    For example, one man from Virginia was convicted of a drug crime when he was 21. \\n    After serving his time, he earned a college degree, had a successful career in the Army and Air Force, \\n    and helped charities that support veterans. \\n\\n    The 1,499 people who had their sentences changed included those who were kept at home during the Covid-19 pandemic. \\n    Biden said these people deserve a second chance. \\n    He also mentioned that he would take more actions in the future.\\n\\n    One person whose sentence was changed is Timothy McGinn, a 76-year-old man. \\n    He had been found guilty of cheating many clients out of their money. \\n    Another person is Jimmy Dimora, who took bribes and was convicted in 2012. \\n    There were also others like Paul Daugerdas and Elaine Lovett, who were involved in tax fraud and health insurance fraud.\\n\\n    Biden will leave the White House on January 20, 2025, when Donald Trump becomes president again. \\n    Biden has given fewer pardons than many past presidents. \\n    In October 2022, he pardoned people for simple marijuana possession. \\n    Earlier this year, he also pardoned military members who were punished for their sexual orientation.\\n\\n    Biden's decision to pardon his son Hunter has caused some debate. \\n    Hunter was facing charges for tax fraud and gun crimes, but Biden believes these charges are unfair. \\n    Biden is also thinking about helping others who might be punished by Trump.\\n\\n    Recently, an ex-FBI informant admitted to lying about Biden and his son. \\n    This was part of an investigation into possible corruption. \\n    In comparison, former President Trump granted many pardons during his time in office, \\n    including some for people involved in the Capitol Hill riot on January 6, 2021. \\n    Trump believes many of these people should not be in jail.\\n    \""
      ]
     },
     "execution_count": 38,
     "metadata": {},
     "output_type": "execute_result"
    }
   ],
   "source": [
    "evaled[\"rewrite_article\"]"
   ]
  },
  {
   "cell_type": "code",
   "execution_count": 39,
   "metadata": {},
   "outputs": [
    {
     "data": {
      "text/plain": [
       "'culture'"
      ]
     },
     "execution_count": 39,
     "metadata": {},
     "output_type": "execute_result"
    }
   ],
   "source": [
    "evaled[\"category\"]"
   ]
  },
  {
   "cell_type": "code",
   "execution_count": 40,
   "metadata": {},
   "outputs": [
    {
     "data": {
      "text/plain": [
       "['pardon',\n",
       " 'convicted',\n",
       " 'non-violent',\n",
       " 'community',\n",
       " 'sentence',\n",
       " 'fraud',\n",
       " 'rehabilitation']"
      ]
     },
     "execution_count": 40,
     "metadata": {},
     "output_type": "execute_result"
    }
   ],
   "source": [
    "evaled[\"key_words\"]"
   ]
  },
  {
   "cell_type": "code",
   "execution_count": 23,
   "metadata": {},
   "outputs": [
    {
     "data": {
      "text/plain": [
       "'dict(rewrite_article=\"President Joe Biden has decided to help 39 people who were found guilty of crimes that did not hurt anyone. He also shortened the sentences of almost 1,500 other people. This is the most pardons given in one day by a president. Biden\\'s decision comes after he pardoned his son, Hunter Biden, who had some legal troubles. Biden said that the people he helped had worked hard to improve their lives and their communities. The president can grant pardons according to the US Constitution. The White House shared a list of the 39 people pardoned, but they did not say exactly what crimes they committed. Many of these people had already been released from prison. Some were veterans or leaders in their communities. One man from Virginia, who was pardoned, had made mistakes when he was younger but later graduated from college and served in the military. He is now known as a hardworking and trustworthy person. The 1,499 people who had their sentences shortened included some who were kept at home during the Covid-19 pandemic. Biden said these people deserved another chance. Among those who had their sentences shortened was a 76-year-old man who cheated many people out of their money. Another person was a former county commissioner who took bribes. Biden plans to take more actions in the future. He has given fewer pardons than many past presidents, but he has still helped some people in need. Earlier, he pardoned people convicted of simple marijuana possession and military personnel who were punished for their sexual orientation. Biden\\'s decision to pardon his son has caused some disagreement because he had previously said he would not do it. Some people think the cases against Hunter were unfairly motivated. Recently, someone who used to work with the FBI admitted to lying about Biden and his son. This person made up stories about them accepting bribes. Former President Trump gave many pardons during his time in office and has promised to help people who were involved in the Capitol riot. He believes many of them should not be in jail. Biden\\'s actions show he is trying to help those who have made mistakes but are trying to do better now.\",\"category\": \"news\",\"key_words\": [\"Biden\", \"pardons\", \"criminal\", \"rehabilitation\", \"sentences\", \"clemency\", \"community\"])'"
      ]
     },
     "execution_count": 23,
     "metadata": {},
     "output_type": "execute_result"
    }
   ],
   "source": [
    "leveled_text"
   ]
  },
  {
   "cell_type": "code",
   "execution_count": 30,
   "metadata": {},
   "outputs": [
    {
     "ename": "SyntaxError",
     "evalue": "invalid syntax (3633545562.py, line 1)",
     "output_type": "error",
     "traceback": [
      "\u001b[0;36m  Cell \u001b[0;32mIn[30], line 1\u001b[0;36m\u001b[0m\n\u001b[0;31m    first_output = \"'dict(rewrite_article=\"President Joe Biden has decided to help 39 people who were found guilty of crimes that did not hurt anyone. He also shortened the sentences of almost 1,500 other people. This is the most pardons given in one day by a president. Biden\\'s decision comes after he pardoned his son, Hunter Biden, who had some legal troubles. Biden said that the people he helped had worked hard to improve their lives and their communities. The president can grant pardons according to the US Constitution. The White House shared a list of the 39 people pardoned, but they did not say exactly what crimes they committed. Many of these people had already been released from prison. Some were veterans or leaders in their communities. One man from Virginia, who was pardoned, had made mistakes when he was younger but later graduated from college and served in the military. He is now known as a hardworking and trustworthy person. The 1,499 people who had their sentences shortened included some who were kept at home during the Covid-19 pandemic. Biden said these people deserved another chance. Among those who had their sentences shortened was a 76-year-old man who cheated many people out of their money. Another person was a former county commissioner who took bribes. Biden plans to take more actions in the future. He has given fewer pardons than many past presidents, but he has still helped some people in need. Earlier, he pardoned people convicted of simple marijuana possession and military personnel who were punished for their sexual orientation. Biden\\'s decision to pardon his son has caused some disagreement because he had previously said he would not do it. Some people think the cases against Hunter were unfairly motivated. Recently, someone who used to work with the FBI admitted to lying about Biden and his son. This person made up stories about them accepting bribes. Former President Trump gave many pardons during his time in office and has promised to help people who were involved in the Capitol riot. He believes many of them should not be in jail. Biden\\'s actions show he is trying to help those who have made mistakes but are trying to do better now.\",\"category\": \"news\",\"key_words\": [\"Biden\", \"pardons\", \"criminal\", \"rehabilitation\", \"sentences\", \"clemency\", \"community\"])'\"\u001b[0m\n\u001b[0m                                           ^\u001b[0m\n\u001b[0;31mSyntaxError\u001b[0m\u001b[0;31m:\u001b[0m invalid syntax\n"
     ]
    }
   ],
   "source": [
    "first_output = \"'dict(rewrite_article=\"President Joe Biden has decided to help 39 people who were found guilty of crimes that did not hurt anyone. He also shortened the sentences of almost 1,500 other people. This is the most pardons given in one day by a president. Biden\\'s decision comes after he pardoned his son, Hunter Biden, who had some legal troubles. Biden said that the people he helped had worked hard to improve their lives and their communities. The president can grant pardons according to the US Constitution. The White House shared a list of the 39 people pardoned, but they did not say exactly what crimes they committed. Many of these people had already been released from prison. Some were veterans or leaders in their communities. One man from Virginia, who was pardoned, had made mistakes when he was younger but later graduated from college and served in the military. He is now known as a hardworking and trustworthy person. The 1,499 people who had their sentences shortened included some who were kept at home during the Covid-19 pandemic. Biden said these people deserved another chance. Among those who had their sentences shortened was a 76-year-old man who cheated many people out of their money. Another person was a former county commissioner who took bribes. Biden plans to take more actions in the future. He has given fewer pardons than many past presidents, but he has still helped some people in need. Earlier, he pardoned people convicted of simple marijuana possession and military personnel who were punished for their sexual orientation. Biden\\'s decision to pardon his son has caused some disagreement because he had previously said he would not do it. Some people think the cases against Hunter were unfairly motivated. Recently, someone who used to work with the FBI admitted to lying about Biden and his son. This person made up stories about them accepting bribes. Former President Trump gave many pardons during his time in office and has promised to help people who were involved in the Capitol riot. He believes many of them should not be in jail. Biden\\'s actions show he is trying to help those who have made mistakes but are trying to do better now.\",\"category\": \"news\",\"key_words\": [\"Biden\", \"pardons\", \"criminal\", \"rehabilitation\", \"sentences\", \"clemency\", \"community\"])'\""
   ]
  },
  {
   "cell_type": "code",
   "execution_count": 24,
   "metadata": {},
   "outputs": [
    {
     "ename": "SyntaxError",
     "evalue": "positional argument follows keyword argument (<string>, line 1)",
     "output_type": "error",
     "traceback": [
      "Traceback \u001b[0;36m(most recent call last)\u001b[0m:\n",
      "\u001b[0m  File \u001b[1;32m~/miniconda3/envs/NewsEase/lib/python3.12/site-packages/IPython/core/interactiveshell.py:3577\u001b[0m in \u001b[1;35mrun_code\u001b[0m\n    exec(code_obj, self.user_global_ns, self.user_ns)\u001b[0m\n",
      "\u001b[0;36m  Cell \u001b[0;32mIn[24], line 1\u001b[0;36m\n\u001b[0;31m    response = eval(leveled_text)\u001b[0;36m\n",
      "\u001b[0;36m  File \u001b[0;32m<string>:1\u001b[0;36m\u001b[0m\n\u001b[0;31m    dict(rewrite_article=\"President Joe Biden has decided to help 39 people who were found guilty of crimes that did not hurt anyone. He also shortened the sentences of almost 1,500 other people. This is the most pardons given in one day by a president. Biden's decision comes after he pardoned his son, Hunter Biden, who had some legal troubles. Biden said that the people he helped had worked hard to improve their lives and their communities. The president can grant pardons according to the US Constitution. The White House shared a list of the 39 people pardoned, but they did not say exactly what crimes they committed. Many of these people had already been released from prison. Some were veterans or leaders in their communities. One man from Virginia, who was pardoned, had made mistakes when he was younger but later graduated from college and served in the military. He is now known as a hardworking and trustworthy person. The 1,499 people who had their sentences shortened included some who were kept at home during the Covid-19 pandemic. Biden said these people deserved another chance. Among those who had their sentences shortened was a 76-year-old man who cheated many people out of their money. Another person was a former county commissioner who took bribes. Biden plans to take more actions in the future. He has given fewer pardons than many past presidents, but he has still helped some people in need. Earlier, he pardoned people convicted of simple marijuana possession and military personnel who were punished for their sexual orientation. Biden's decision to pardon his son has caused some disagreement because he had previously said he would not do it. Some people think the cases against Hunter were unfairly motivated. Recently, someone who used to work with the FBI admitted to lying about Biden and his son. This person made up stories about them accepting bribes. Former President Trump gave many pardons during his time in office and has promised to help people who were involved in the Capitol riot. He believes many of them should not be in jail. Biden's actions show he is trying to help those who have made mistakes but are trying to do better now.\",\"category\": \"news\",\"key_words\": [\"Biden\", \"pardons\", \"criminal\", \"rehabilitation\", \"sentences\", \"clemency\", \"community\"])\u001b[0m\n\u001b[0m                                                                                                                                                                                                                                                                                                                                                                                                                                                                                                                                                                                                                                                                                                                                                                                                                                                                                                                                                                                                                                                                                                                                                                                                                                                                                                                                                                                                                                                                                                                                                                                                                                                                                                                                                                                                                                                                                                                                                                                                                                                                                                                                                                                                                                                                                     ^\u001b[0m\n\u001b[0;31mSyntaxError\u001b[0m\u001b[0;31m:\u001b[0m positional argument follows keyword argument\n"
     ]
    }
   ],
   "source": [
    "response = eval(leveled_text)\n",
    "response"
   ]
  },
  {
   "cell_type": "markdown",
   "metadata": {},
   "source": [
    "### 테스트"
   ]
  },
  {
   "cell_type": "code",
   "execution_count": 2,
   "metadata": {},
   "outputs": [],
   "source": [
    "NEWS_TOKEN = os.getenv(\"NewsAPI\")\n",
    "newsapi = NewsApiClient(api_key=NEWS_TOKEN)"
   ]
  },
  {
   "cell_type": "code",
   "execution_count": 9,
   "metadata": {},
   "outputs": [
    {
     "data": {
      "text/plain": [
       "{'status': 'ok',\n",
       " 'totalResults': 10,\n",
       " 'articles': [{'source': {'id': 'bbc-news', 'name': 'BBC News'},\n",
       "   'author': 'BBC News',\n",
       "   'title': \"Prince Harry 'one of two claimants' still suing Sun publisher\",\n",
       "   'description': 'Prince Harry and former Labour deputy leader Tom Watson are the two remaining claimants suing News Group Newspapers.',\n",
       "   'url': 'https://www.bbc.co.uk/news/articles/cvglrv7q945o',\n",
       "   'urlToImage': 'https://ichef.bbci.co.uk/news/1024/branded_news/971d/live/f89a8890-a346-11ef-b0f5-15ab15c44ed7.jpg',\n",
       "   'publishedAt': '2024-11-15T14:22:23.0305366Z',\n",
       "   'content': 'The High Court in London saw both sides return, asking a judge to rule on preliminary issues before the trial in 2025.\\r\\nThese included whether Prince Harry could be allowed access to \"relevant emails… [+1997 chars]'}]}"
      ]
     },
     "execution_count": 9,
     "metadata": {},
     "output_type": "execute_result"
    }
   ],
   "source": [
    "top_headlines = newsapi.get_top_headlines(sources='bbc-news', page_size=1)\n",
    "top_headlines"
   ]
  },
  {
   "cell_type": "code",
   "execution_count": 46,
   "metadata": {},
   "outputs": [
    {
     "data": {
      "text/plain": [
       "{'status': 'ok', 'totalResults': 0, 'articles': []}"
      ]
     },
     "execution_count": 46,
     "metadata": {},
     "output_type": "execute_result"
    }
   ],
   "source": [
    "top_headlines = newsapi.get_top_headlines(q='bitcoin',\n",
    "                                          sources='bbc-news')\n",
    "top_headlines"
   ]
  },
  {
   "cell_type": "code",
   "execution_count": 43,
   "metadata": {},
   "outputs": [
    {
     "name": "stdout",
     "output_type": "stream",
     "text": [
      "0\n",
      "[]\n"
     ]
    }
   ],
   "source": [
    "n = 3\n",
    "cnt = 0\n",
    "\n",
    "bbc_cate_list = []\n",
    "texts = newsapi.get_top_headlines(category='sports', language='en', page_size=100)\n",
    "for text in texts[\"articles\"]:\n",
    "    if text[\"source\"][\"name\"] == \"BBC News\":\n",
    "        bbc_cate_list.append(text)\n",
    "    \n",
    "    if len(bbc_cate_list) == n:\n",
    "        break\n",
    "\n",
    "print(len(bbc_cate_list))\n",
    "print(bbc_cate_list)"
   ]
  },
  {
   "cell_type": "code",
   "execution_count": 29,
   "metadata": {},
   "outputs": [
    {
     "data": {
      "text/plain": [
       "{'status': 'ok',\n",
       " 'totalResults': 66,\n",
       " 'articles': [{'source': {'id': None, 'name': 'Space.com'},\n",
       "   'author': 'Brett Tingley',\n",
       "   'title': \"The final supermoon of 2024 rises tonight as November's Full Beaver Moon - Space.com\",\n",
       "   'description': 'November\\'s Beaver Moon will appear in the sky next to the gorgeous Pleiades star cluster, also known as the \"Seven Sisters.\"',\n",
       "   'url': 'https://www.space.com/the-universe/moon/the-final-supermoon-of-2024-rises-nov-15-as-novembers-full-beaver-moon',\n",
       "   'urlToImage': 'https://cdn.mos.cms.futurecdn.net/vsqQSPBUTUN9YhExZoytrc-1200-80.jpg',\n",
       "   'publishedAt': '2024-11-15T12:40:53Z',\n",
       "   'content': \"The last of four consecutive supermoons in 2024 rises this week.\\r\\nNovember's Full Beaver Moon will rise on Friday (Nov. 15), just in time for those willing to stay up late for some weekend skywatchin… [+3361 chars]\"},\n",
       "  {'source': {'id': 'cnn', 'name': 'CNN'},\n",
       "   'author': 'Jackie Wattles',\n",
       "   'title': 'NASA worries space station leaks in Russian module are potentially ‘catastrophic.’ Russia doesn’t seem to agree - CNN',\n",
       "   'description': 'Leaks are affecting a key part of the International Space Station. NASA and Russia’s space agency, Roscosmos, are not seeing eye to eye about the level of risk.',\n",
       "   'url': 'https://www.cnn.com/2024/11/15/science/international-space-station-leak-nasa-russia/index.html',\n",
       "   'urlToImage': 'https://media.cnn.com/api/v1/images/stellar/prod/51353322598-4f68034eb8-5k.jpg?c=16x9&q=w_800,c_fill',\n",
       "   'publishedAt': '2024-11-15T11:00:00Z',\n",
       "   'content': 'Sign up for CNNs Wonder Theory science newsletter.\\xa0Explore the universe with news on fascinating discoveries, scientific advancements and more.\\r\\nA Russian-controlled segment of the International Spac… [+9206 chars]'},\n",
       "  {'source': {'id': None, 'name': 'ScienceAlert'},\n",
       "   'author': 'Jess Cockerill',\n",
       "   'title': 'Stunningly Preserved Saber-Toothed Kitten Studied in World First - ScienceAlert',\n",
       "   'description': \"For some 37,000 years, the soft, furry body of a three-week-old saber-toothed 'kitten' lay cradled by Arctic permafrost, its head, limbs, paws, and torso remaining almost perfectly preserved by the cold.\",\n",
       "   'url': 'https://www.sciencealert.com/stunningly-preserved-saber-toothed-kitten-studied-in-world-first',\n",
       "   'urlToImage': 'https://www.sciencealert.com/images/2024/11/SaberToothedKittenMummy.jpg',\n",
       "   'publishedAt': '2024-11-15T06:29:39Z',\n",
       "   'content': \"For some 37,000 years, the soft, furry body of a three-week-old saber-toothed 'kitten' lay cradled by Arctic permafrost, its head, limbs, paws, and torso remaining almost perfectly preserved by the c… [+3967 chars]\"}]}"
      ]
     },
     "execution_count": 29,
     "metadata": {},
     "output_type": "execute_result"
    }
   ],
   "source": [
    "top_headlines = newsapi.get_top_headlines(\n",
    "    category='science',\n",
    "    language='en',\n",
    "    page_size=3\n",
    ")\n",
    "top_headlines\n"
   ]
  },
  {
   "cell_type": "code",
   "execution_count": null,
   "metadata": {},
   "outputs": [],
   "source": [
    "top"
   ]
  },
  {
   "cell_type": "code",
   "execution_count": 7,
   "metadata": {},
   "outputs": [
    {
     "data": {
      "text/plain": [
       "{'status': 'ok',\n",
       " 'totalResults': 66,\n",
       " 'articles': [{'source': {'id': None, 'name': 'Space.com'},\n",
       "   'author': 'Brett Tingley',\n",
       "   'title': \"The final supermoon of 2024 rises tonight as November's Full Beaver Moon - Space.com\",\n",
       "   'description': 'November\\'s Beaver Moon will appear in the sky next to the gorgeous Pleiades star cluster, also known as the \"Seven Sisters.\"',\n",
       "   'url': 'https://www.space.com/the-universe/moon/the-final-supermoon-of-2024-rises-nov-15-as-novembers-full-beaver-moon',\n",
       "   'urlToImage': 'https://cdn.mos.cms.futurecdn.net/vsqQSPBUTUN9YhExZoytrc-1200-80.jpg',\n",
       "   'publishedAt': '2024-11-15T12:40:53Z',\n",
       "   'content': \"The last of four consecutive supermoons in 2024 rises this week.\\r\\nNovember's Full Beaver Moon will rise on Friday (Nov. 15), just in time for those willing to stay up late for some weekend skywatchin… [+3361 chars]\"},\n",
       "  {'source': {'id': 'cnn', 'name': 'CNN'},\n",
       "   'author': 'Jackie Wattles',\n",
       "   'title': 'NASA worries space station leaks in Russian module are potentially ‘catastrophic.’ Russia doesn’t seem to agree - CNN',\n",
       "   'description': 'Leaks are affecting a key part of the International Space Station. NASA and Russia’s space agency, Roscosmos, are not seeing eye to eye about the level of risk.',\n",
       "   'url': 'https://www.cnn.com/2024/11/15/science/international-space-station-leak-nasa-russia/index.html',\n",
       "   'urlToImage': 'https://media.cnn.com/api/v1/images/stellar/prod/51353322598-4f68034eb8-5k.jpg?c=16x9&q=w_800,c_fill',\n",
       "   'publishedAt': '2024-11-15T11:00:00Z',\n",
       "   'content': 'Sign up for CNNs Wonder Theory science newsletter.\\xa0Explore the universe with news on fascinating discoveries, scientific advancements and more.\\r\\nA Russian-controlled segment of the International Spac… [+9206 chars]'},\n",
       "  {'source': {'id': None, 'name': 'ScienceAlert'},\n",
       "   'author': 'Jess Cockerill',\n",
       "   'title': 'Stunningly Preserved Saber-Toothed Kitten Studied in World First - ScienceAlert',\n",
       "   'description': \"For some 37,000 years, the soft, furry body of a three-week-old saber-toothed 'kitten' lay cradled by Arctic permafrost, its head, limbs, paws, and torso remaining almost perfectly preserved by the cold.\",\n",
       "   'url': 'https://www.sciencealert.com/stunningly-preserved-saber-toothed-kitten-studied-in-world-first',\n",
       "   'urlToImage': 'https://www.sciencealert.com/images/2024/11/SaberToothedKittenMummy.jpg',\n",
       "   'publishedAt': '2024-11-15T06:29:39Z',\n",
       "   'content': \"For some 37,000 years, the soft, furry body of a three-week-old saber-toothed 'kitten' lay cradled by Arctic permafrost, its head, limbs, paws, and torso remaining almost perfectly preserved by the c… [+3967 chars]\"},\n",
       "  {'source': {'id': None, 'name': 'SciTechDaily'},\n",
       "   'author': None,\n",
       "   'title': 'Is the Universe Defying Einstein? New Discoveries Challenge Relativity - SciTechDaily',\n",
       "   'description': 'Scientists test the famous physicist’s predictions by calculating the distortion of time and space. Why is the expansion of the Universe accelerating? Even 25 years after its discovery, this remains one of science’s most profound mysteries. Unraveling it requ…',\n",
       "   'url': 'https://scitechdaily.com/is-the-universe-defying-einstein-new-discoveries-challenge-relativity/',\n",
       "   'urlToImage': 'https://scitechdaily.com/images/Dark-Energy-Cosmic-Expansion-Einstein-Art-Concept.jpg',\n",
       "   'publishedAt': '2024-11-15T04:07:51Z',\n",
       "   'content': 'Research into gravitational lensing, where light bends around massive objects, aligns with Einstein’s predictions from billions of years ago. However, newer findings suggest some deviations, indicati… [+5907 chars]'},\n",
       "  {'source': {'id': 'the-washington-post', 'name': 'The Washington Post'},\n",
       "   'author': 'Kasha Patel',\n",
       "   'title': 'How industrial pollution is altering clouds and making it snow - The Washington Post',\n",
       "   'description': 'The team found unique plumes of ice clouds near 67 metal and cement factories, paper mills and power plants in North America, Europe and Asia.',\n",
       "   'url': 'https://www.washingtonpost.com/climate-environment/2024/11/14/industrial-pollution-ice-altering-clouds-snow/',\n",
       "   'urlToImage': 'https://www.washingtonpost.com/wp-apps/imrs.php?src=https://arc-anglerfish-washpost-prod-washpost.s3.amazonaws.com/public/S6TYJFQSNVD43BRZ54QAZJGNVA_size-normalized.jpg&w=1440',\n",
       "   'publishedAt': '2024-11-15T03:00:00Z',\n",
       "   'content': 'A peculiarly large hole appeared in the clouds near Russias Norilsk Nickel factory, one of the worlds largest producers of nickel and a heavy air polluter. Scientist Velle Toll was intrigued by the s… [+188 chars]'}]}"
      ]
     },
     "execution_count": 7,
     "metadata": {},
     "output_type": "execute_result"
    }
   ],
   "source": [
    "top_headlines"
   ]
  },
  {
   "cell_type": "code",
   "execution_count": 1,
   "metadata": {},
   "outputs": [],
   "source": [
    "import os\n",
    "import requests\n",
    "from typing import List, Tuple\n",
    "from bs4 import BeautifulSoup\n",
    "from dotenv import load_dotenv\n",
    "from newsapi import NewsApiClient\n",
    "from openai import OpenAI\n",
    "\n",
    "load_dotenv(verbose=True)\n",
    "client = OpenAI(api_key=os.getenv(\"openaiAPI\"))\n",
    "\n",
    "\n",
    "def get_news_metainfo_from_bbc(n: int = 5) -> List[str]:\n",
    "    \"\"\"\n",
    "    NewsApiClient를 사용하여 BBC의 그날 대표 뉴스 n개에 대한 메타 정보를 반환합니다.\n",
    "    \"\"\"\n",
    "    # set tokens for NewsAPI\n",
    "    NEWS_TOKEN = os.getenv(\"NewsAPI\")\n",
    "    newsapi = NewsApiClient(api_key=NEWS_TOKEN)\n",
    "    \n",
    "    # get top headlines of bbc-news\n",
    "    top_headlines = newsapi.get_top_headlines(sources='bbc-news', page_size=n)\n",
    "    \n",
    "    # extract meta information from article lists\n",
    "    articles = []\n",
    "    for article in top_headlines['articles']:\n",
    "        info_dict = dict()\n",
    "        info_dict[\"title\"] = article['title']\n",
    "        info_dict[\"description\"] = article['description']\n",
    "        info_dict[\"url\"] = article['url']\n",
    "        info_dict[\"urlToImage\"] = article['urlToImage']\n",
    "        articles.append(info_dict)\n",
    "        \n",
    "    return articles\n",
    "    \n",
    "    \n",
    "def get_article_from_url(url: str) -> str:\n",
    "    \"\"\"\n",
    "    입력받은 URL을 토대로 기사의 본문 태그를 찾아 본문 내용을 반환합니다.\n",
    "    \"\"\"\n",
    "    # get HTML content of url\n",
    "    print(url)\n",
    "    response = requests.get(url)\n",
    "    soup = BeautifulSoup(response.text, 'html.parser')\n",
    "\n",
    "    # select p tag to get content\n",
    "    paragraphs = soup.find_all('p')\n",
    "    article_text = '\\n'.join([para.get_text() for para in paragraphs])\n",
    "    \n",
    "    return article_text\n"
   ]
  },
  {
   "cell_type": "code",
   "execution_count": 102,
   "metadata": {},
   "outputs": [
    {
     "name": "stdout",
     "output_type": "stream",
     "text": [
      "Collecting nltk\n",
      "  Downloading nltk-3.9.1-py3-none-any.whl.metadata (2.9 kB)\n",
      "Requirement already satisfied: click in /Users/park-dong-yeon/miniconda3/envs/NewsEase/lib/python3.12/site-packages (from nltk) (8.1.7)\n",
      "Collecting joblib (from nltk)\n",
      "  Downloading joblib-1.4.2-py3-none-any.whl.metadata (5.4 kB)\n",
      "Collecting regex>=2021.8.3 (from nltk)\n",
      "  Downloading regex-2024.11.6-cp312-cp312-macosx_11_0_arm64.whl.metadata (40 kB)\n",
      "Requirement already satisfied: tqdm in /Users/park-dong-yeon/miniconda3/envs/NewsEase/lib/python3.12/site-packages (from nltk) (4.66.5)\n",
      "Downloading nltk-3.9.1-py3-none-any.whl (1.5 MB)\n",
      "\u001b[2K   \u001b[90m━━━━━━━━━━━━━━━━━━━━━━━━━━━━━━━━━━━━━━━━\u001b[0m \u001b[32m1.5/1.5 MB\u001b[0m \u001b[31m4.7 MB/s\u001b[0m eta \u001b[36m0:00:00\u001b[0ma \u001b[36m0:00:01\u001b[0m\n",
      "\u001b[?25hDownloading regex-2024.11.6-cp312-cp312-macosx_11_0_arm64.whl (284 kB)\n",
      "Downloading joblib-1.4.2-py3-none-any.whl (301 kB)\n",
      "Installing collected packages: regex, joblib, nltk\n",
      "Successfully installed joblib-1.4.2 nltk-3.9.1 regex-2024.11.6\n"
     ]
    }
   ],
   "source": [
    "!pip install nltk"
   ]
  },
  {
   "cell_type": "code",
   "execution_count": 105,
   "metadata": {},
   "outputs": [
    {
     "name": "stderr",
     "output_type": "stream",
     "text": [
      "[nltk_data] Downloading package wordnet to /Users/park-dong-\n",
      "[nltk_data]     yeon/nltk_data...\n",
      "[nltk_data]   Package wordnet is already up-to-date!\n"
     ]
    },
    {
     "name": "stdout",
     "output_type": "stream",
     "text": [
      "Definition: enjoying or showing or marked by joy or pleasure\n",
      "Synonyms: ['happy']\n",
      "Definition: marked by good fortune\n",
      "Synonyms: ['felicitous', 'happy']\n",
      "Definition: eagerly disposed to act or to be of service\n",
      "Synonyms: ['glad', 'happy']\n",
      "Definition: well expressed and to the point\n",
      "Synonyms: ['happy', 'well-chosen']\n"
     ]
    }
   ],
   "source": [
    "from nltk.corpus import wordnet\n",
    "import nltk\n",
    "\n",
    "nltk.download('wordnet')\n",
    "\n",
    "word=\"happy\"\n",
    "synsets = wordnet.synsets(word)\n",
    "\n",
    "for synset in synsets:\n",
    "    print(f\"Definition: {synset.definition()}\")\n",
    "    print(f\"Synonyms: {[lemma.name() for lemma in synset.lemmas()]}\")"
   ]
  },
  {
   "cell_type": "code",
   "execution_count": 111,
   "metadata": {},
   "outputs": [
    {
     "data": {
      "text/plain": [
       "'enjoying or showing or marked by joy or pleasure'"
      ]
     },
     "execution_count": 111,
     "metadata": {},
     "output_type": "execute_result"
    }
   ],
   "source": [
    "(synsets[0]).definition()"
   ]
  },
  {
   "cell_type": "code",
   "execution_count": 113,
   "metadata": {},
   "outputs": [
    {
     "data": {
      "text/plain": [
       "[Lemma('happy.a.01.happy')]"
      ]
     },
     "execution_count": 113,
     "metadata": {},
     "output_type": "execute_result"
    }
   ],
   "source": [
    "(synsets[0]).lemmas()"
   ]
  },
  {
   "cell_type": "code",
   "execution_count": 114,
   "metadata": {},
   "outputs": [
    {
     "name": "stdout",
     "output_type": "stream",
     "text": [
      "Definition: an Asian peninsula (off Manchuria) separating the Yellow Sea and the Sea of Japan; the Korean name is Dae-Han-Min-Gook or Han-Gook\n",
      "Synonyms: ['Korea', 'Korean_Peninsula', 'Dae-Han-Min-Gook', 'Han-Gook']\n"
     ]
    }
   ],
   "source": [
    "word=\"Korea\"\n",
    "synsets = wordnet.synsets(word)\n",
    "\n",
    "for synset in synsets:\n",
    "    print(f\"Definition: {synset.definition()}\")\n",
    "    print(f\"Synonyms: {[lemma.name() for lemma in synset.lemmas()]}\")"
   ]
  },
  {
   "cell_type": "code",
   "execution_count": 115,
   "metadata": {},
   "outputs": [
    {
     "name": "stdout",
     "output_type": "stream",
     "text": [
      "Definition: enjoying or showing or marked by joy or pleasure\n",
      "Synonyms: ['happy']\n",
      "Definition: marked by good fortune\n",
      "Synonyms: ['felicitous', 'happy']\n",
      "Definition: eagerly disposed to act or to be of service\n",
      "Synonyms: ['glad', 'happy']\n",
      "Definition: well expressed and to the point\n",
      "Synonyms: ['happy', 'well-chosen']\n"
     ]
    }
   ],
   "source": [
    "word=\"happy\"\n",
    "synsets = wordnet.synsets(word)\n",
    "\n",
    "for synset in synsets:\n",
    "    print(f\"Definition: {synset.definition()}\")\n",
    "    print(f\"Synonyms: {[lemma.name() for lemma in synset.lemmas()]}\")"
   ]
  },
  {
   "cell_type": "code",
   "execution_count": 124,
   "metadata": {},
   "outputs": [],
   "source": [
    "word=\"happy\"\n",
    "synsets = wordnet.synsets(word)"
   ]
  },
  {
   "cell_type": "code",
   "execution_count": 126,
   "metadata": {},
   "outputs": [
    {
     "name": "stdout",
     "output_type": "stream",
     "text": [
      "4\n"
     ]
    }
   ],
   "source": [
    "print(len(synsets))"
   ]
  },
  {
   "cell_type": "code",
   "execution_count": 117,
   "metadata": {},
   "outputs": [
    {
     "name": "stdout",
     "output_type": "stream",
     "text": [
      "{1, 2, 3}\n"
     ]
    }
   ],
   "source": [
    "a = set()\n",
    "b = [1, 2, 3, 1, 1]\n",
    "\n",
    "a.update(b)\n",
    "print(a)"
   ]
  },
  {
   "cell_type": "code",
   "execution_count": 128,
   "metadata": {},
   "outputs": [
    {
     "name": "stdout",
     "output_type": "stream",
     "text": [
      "enjoying or showing or marked by joy or pleasure\n",
      "well-chosen, glad, felicitous\n"
     ]
    }
   ],
   "source": [
    "meaning_value = \"\"\n",
    "synonyms_value = \"\"\n",
    "\n",
    "synonyms_list = set()\n",
    "word=\"happy\"\n",
    "\n",
    "synsets = wordnet.synsets(word)\n",
    "\n",
    "if len(synsets) != 0:    \n",
    "    for idx, synset in enumerate(synsets):\n",
    "        if idx == 0:\n",
    "            meaning_value = synset.definition()\n",
    "        synonyms_list.update([lemma.name() for lemma in synset.lemmas()])\n",
    "    synonyms_list.discard(word) # delete original word\n",
    "    synonyms_value = (\", \".join(list(synonyms_list)))\n",
    "\n",
    "print(meaning_value)\n",
    "print(synonyms_value)"
   ]
  },
  {
   "cell_type": "code",
   "execution_count": 123,
   "metadata": {},
   "outputs": [
    {
     "name": "stdout",
     "output_type": "stream",
     "text": [
      "{'well-chosen', 'glad', 'felicitous'}\n"
     ]
    }
   ],
   "source": [
    "synonyms_list.discard('happy')\n",
    "print(synonyms_list)"
   ]
  },
  {
   "cell_type": "code",
   "execution_count": 122,
   "metadata": {},
   "outputs": [
    {
     "data": {
      "text/plain": [
       "{'felicitous', 'glad', 'well-chosen'}"
      ]
     },
     "execution_count": 122,
     "metadata": {},
     "output_type": "execute_result"
    }
   ],
   "source": [
    "synonyms_list"
   ]
  }
 ],
 "metadata": {
  "kernelspec": {
   "display_name": "NewsEase",
   "language": "python",
   "name": "python3"
  },
  "language_info": {
   "codemirror_mode": {
    "name": "ipython",
    "version": 3
   },
   "file_extension": ".py",
   "mimetype": "text/x-python",
   "name": "python",
   "nbconvert_exporter": "python",
   "pygments_lexer": "ipython3",
   "version": "3.12.4"
  }
 },
 "nbformat": 4,
 "nbformat_minor": 2
}
