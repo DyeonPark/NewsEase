{
 "cells": [
  {
   "cell_type": "markdown",
   "metadata": {},
   "source": [
    "### Get article"
   ]
  },
  {
   "cell_type": "code",
   "execution_count": 24,
   "metadata": {},
   "outputs": [],
   "source": [
    "import os\n",
    "import requests\n",
    "from typing import List, Tuple\n",
    "from bs4 import BeautifulSoup\n",
    "from dotenv import load_dotenv\n",
    "from newsapi import NewsApiClient\n",
    "from openai import OpenAI\n",
    "\n",
    "load_dotenv(verbose=True)\n",
    "client = OpenAI(api_key=os.getenv(\"OPENAI_API_KEY\"))\n",
    "\n",
    "NEWS_TOKEN = os.getenv(\"NEWS_API_KEY\")\n",
    "newsapi = NewsApiClient(api_key=NEWS_TOKEN)\n",
    "top_headlines = newsapi.get_top_headlines(sources='bbc-news', page_size=1)"
   ]
  },
  {
   "cell_type": "code",
   "execution_count": 25,
   "metadata": {},
   "outputs": [
    {
     "data": {
      "text/plain": [
       "{'status': 'ok',\n",
       " 'totalResults': 10,\n",
       " 'articles': [{'source': {'id': 'bbc-news', 'name': 'BBC News'},\n",
       "   'author': 'BBC News',\n",
       "   'title': 'Ten people killed in New Orleans as vehicle ploughs into crowd',\n",
       "   'description': 'Police say 35 others injured on Bourbon Street by attacker \"hell-bent on carnage\".',\n",
       "   'url': 'https://www.bbc.co.uk/news/articles/crl378x8nnjo',\n",
       "   'urlToImage': 'https://ichef.bbci.co.uk/ace/branded_news/1200/cpsprodpb/c3f4/live/96275010-c837-11ef-8f44-0922f468356e.png',\n",
       "   'publishedAt': '2025-01-01T13:37:24.800693Z',\n",
       "   'content': 'A CBS reporter saw multiple people with injuries on the ground at the intersection of Bourbon and Canal streets.\\r\\nA video confirmed as genuine by BBC Verify show a person lying on the ground and a cr… [+2053 chars]'}]}"
      ]
     },
     "execution_count": 25,
     "metadata": {},
     "output_type": "execute_result"
    }
   ],
   "source": [
    "top_headlines"
   ]
  },
  {
   "cell_type": "code",
   "execution_count": 26,
   "metadata": {},
   "outputs": [],
   "source": [
    "def get_article_from_url(url: str) -> str:\n",
    "    \"\"\"\n",
    "    입력받은 URL을 토대로 기사의 본문 태그를 찾아 본문 내용을 반환합니다.\n",
    "    \"\"\"\n",
    "    # get HTML content of url\n",
    "    print(url)\n",
    "    response = requests.get(url)\n",
    "    soup = BeautifulSoup(response.text, 'html.parser')\n",
    "\n",
    "    # select p tag to get content\n",
    "    paragraphs = soup.find_all('p')\n",
    "    article_text = '\\n'.join([para.get_text() for para in paragraphs])\n",
    "    \n",
    "    return article_text"
   ]
  },
  {
   "cell_type": "code",
   "execution_count": 27,
   "metadata": {},
   "outputs": [
    {
     "name": "stdout",
     "output_type": "stream",
     "text": [
      "https://www.bbc.co.uk/news/articles/crl378x8nnjo\n"
     ]
    },
    {
     "data": {
      "text/plain": [
       "'The suspect in the New Orleans attack that killed 15 people on New Year\\'s Day did not act alone, US investigators believe.\\nShamsud-Din Jabbar, a 42-year-old US citizen, is believed to have driven a pick-up truck into a crowd on a busy New Orleans street, before exiting the vehicle and firing a weapon. He was shot dead by police at the scene.\\nThe FBI says an Islamic State (IS) group flag was found inside the vehicle he was driving, while two improvised explosive devices were found nearby.\\nFBI assistant special agent Alethea Duncan said the agency did not believe Jabbar was \"solely responsible\" and were investigating the incident as an \"act of terrorism\".\\nMore on the New Orleans attack\\nLIVE: Several people involved in IS-inspired attack\\nThe victims: Aspiring nurse and ex-college football player among the dead\\nThe attacker: What we know about Shamsud-Din Jabbar\\nWatch: How day of deadly attack unfolded\\nPresident Joe Biden said investigators were looking into whether the incident was linked to the explosion of a Tesla Cybertruck outside Trump Hotel in Las Vegas, but \"thus far, there is nothing to report\".\\nThe FBI also said it was investigating whether the Las Vegas incident might be an act of terrorism, but has not confirmed the identity of the driver. Authorities said that they had so far found no evidence that this incident was related to IS.\\nSheriff Kevin McMahill told a news conference on Wednesday that police were considering whether it may be related to President-elect Donald Trump, who owns the hotel, or Elon Musk, who owns Tesla.\\nIn the wake of the attack in New Orleans, Coroner Dr Dwight McKenna confirmed by the evening that the death toll had risen to 15.\\nHe said it would take several days to perform all of the post-mortem examinations, after which the identities of the victims would be formally released.\\nAmong those killed was former Princeton University football star Martin \"Tiger\" Bech, according to the college\\'s athletics department.\\n\"There was no more appropriate nickname of a Princeton player I coached,\" Bob Surace, head football coach, said in a statement.\\n\"He was a \\'Tiger\\' in every way - a ferocious competitor with endless energy, a beloved teammate and a caring friend.\"\\nDozens of others were injured during the attack, which took place in New Orleans\\' French Quarter - a bustling nightspot popular with locals and tourists - at around 03:15 (09:15 GMT). \\n\"This man was trying to run over as many people as he possibly could\", New Orleans Police Chief Anne Kirkpatrick said.\\nThis video can not be played\\nWatch: FBI gives update on New Orleans attacker\\nA long gun with a \"suppressive device\" on it - acting as a silencer - was also recovered from the scene. The pick-up truck he was driving is believed to have been rented in Texas via an app.\\nJabbar was born in Texas and previously served in the US Army. \\nAccording to a now-removed LinkedIn profile, he had worked in various roles in the US Army, including in human resources and IT, before he was discharged.\\nHe studied at George State University from 2015 to 2017, graduating with a degree in computer information systems.\\nHe also appears to have worked in real estate, holding a license that expired in 2021. He had a criminal record, relating to traffic offences and theft.\\nVideo shows the truck driving onto the pavement to get around a police car before hitting people.\\nThe city\\'s system of bollards - short, vertical posts to block vehicle access to pedestrian streets - was in the process of being repaired, the vice president of the New Orleans City Council told the BBC\\'s Newsday programme.\\nThat meant temporary barricades were in place, CBS News, the BBC\\'s US partner, reported.\\nWitnesses who had been in New Orleans\\' French Quarter for New Year celebrations have spoken of the carnage they witnessed. \\nWhit Davis, from Shreveport, Louisiana, was in a bar with friends on Bourbon Street when the attack took place. \\n\"People started running and getting under tables like it was an active shooter drill,\" he told the BBC. \"Everyone was just completely in shock.\" \\nJim and Nicole Mowrer, who were visiting New Orleans from Iowa, told CBS News that they witnessed the truck drive through a barricade at speed then heard gunshots and crashing noises.\\nThey tried to help people they thought were wounded but realised the victims had died.\\nThe wrecked white pickup truck could be seen surrounded by police on Wednesday morning\\nA hotel worker told CBS he had been closing down for the evening when he looked out the window and noticed \"there was a lot of bodies lying on the ground\".\\n\"The truck was speeding away. I immediately ran downstairs to see if there were some people I can help out and unfortunately some people did perish during that event.\"\\n\"The scene was just horrific,\" he added.\\nUS President Joe Biden said his reaction to the attack was one of \"anger and frustration\".\\nThe White House said Mr Biden had called the city\\'s mayor this morning to offer \"full federal support\". \\nLouisiana Governor Jeff Landry said in a post on X that he was \"praying for all the victims and first responders on scene\".\\n\"A horrific act of violence took place on Bourbon Street earlier this morning,\" Landry wrote.\\nThe Sugar Bowl, a much-anticipated college football match between Notre Dame and the University of Georgia, has been postponed until Thursday as a result of the attack. \\nAre you in the region? If it is safe to do so, get in touch.\\nYou can get in touch by following this link\\nMultiple people involved in New Orleans attack inspired by IS group, authorities say\\nEx-college football player and aspiring nurse among New Orleans attack victims\\nPolice investigate if blast at Trump hotel is linked to New Orleans attack\\nWithin seconds, celebrations turn to mayhem and tragedy in New Orleans\\nThe endgame in Ukraine: How the war could come to a close in 2025\\nUK\\'s new city of culture seeks to overturn negative image\\nHow did Scotland become a Hollywood hotspot?\\nHow to watch the Quadrantid meteor shower as it peaks this week\\nWhat we know about the New Orleans attack and suspect\\nWatch: How day of deadly New Orleans attack unfolded\\nAmber cold weather health alerts issued ahead of snow\\nWinkleman: \\'New twists have turned The Traitors on its head\\'\\nSteven Knight\\'s hit war drama has returned\\nWatch all episodes of the adrenaline-fuelled new series on BBC iPlayer now\\nWhat advice would Pete Doherty give to his younger self?\\nThe founder of The Libertines reflects on his life and career to date\\nThe award-winning psychological competition is back\\nA nail-biting game of detection, backstabbing and trust. Who will make it through?\\nWas karaoke invented in Stockport and stolen by Japan?\\nGeoff Lloyd examines this crazy claim to find the truth\\nÂ© 2025 BBC. The BBC is not responsible for the content of external sites. Read about our approach to external linking.'"
      ]
     },
     "execution_count": 27,
     "metadata": {},
     "output_type": "execute_result"
    }
   ],
   "source": [
    "context = get_article_from_url(top_headlines[\"articles\"][0][\"url\"])\n",
    "context"
   ]
  },
  {
   "cell_type": "markdown",
   "metadata": {},
   "source": [
    "### Create article"
   ]
  },
  {
   "cell_type": "code",
   "execution_count": 28,
   "metadata": {},
   "outputs": [],
   "source": [
    "def convert_txt_to_steps(context: str, level: str):\n",
    "    \"\"\"\n",
    "    입력받은 기사 내용(context)을 입력받은 수준(level)에 맞게 재생성합니다.\n",
    "    \"\"\"\n",
    "    \n",
    "    # set prompt for gpt model\n",
    "    prompt = f\"\"\"\n",
    "    I'll send you the article body. Please return the value in format like below.\n",
    "    dict(“rewrite_article\": string, “category\": string, \"keywords\": list(str))\n",
    "\n",
    "    1. Rewrite the article text to a {level} level and put it as the first part of the return value. You must finish article within 50 centences, and line it up appropriately to make it easier to read. Also, be original and must not duplicate any of the original sentences.\n",
    "    2. Select the category of t]orts, business, innovation, culture, travel, or earth, and enter it as the second value in the return value.\n",
    "    3. Select 5-7 important words from the article in purpose of learning English and put them as the 3rd part of the return value\n",
    "\n",
    "    Article Text: {context}\n",
    "    \"\"\"\n",
    "    \n",
    "    # get response form gpt model\n",
    "    response = client.chat.completions.create(\n",
    "        model=\"gpt-4o-mini\",\n",
    "        messages=[\n",
    "            {\"role\": \"system\", \"content\": \"You are a helpful assistant that rewrites articles for teaching English.\"},\n",
    "            {\"role\": \"user\", \"content\": prompt}\n",
    "        ],\n",
    "        max_tokens=2048,\n",
    "        temperature=0.5\n",
    "    )\n",
    "    \n",
    "    # return response text\n",
    "    response_dict = response.model_dump()\n",
    "    response_message = response_dict[\"choices\"][0][\"message\"][\"content\"]\n",
    "    return response_message\n"
   ]
  },
  {
   "cell_type": "code",
   "execution_count": 30,
   "metadata": {},
   "outputs": [
    {
     "data": {
      "text/plain": [
       "{'rewrite_article': '\\n    On New Year\\'s Day, there was a terrible attack in New Orleans that resulted in the deaths of 15 people. \\n    The police believe the person responsible did not act alone. \\n    Shamsud-Din Jabbar, a 42-year-old man from the United States, drove a truck into a crowd on a busy street. \\n    After hitting people, he got out of the truck and started shooting. \\n    The police shot him at the scene. \\n\\n    Inside the truck, the FBI found a flag of a group called the Islamic State. \\n    They also found two bombs nearby. \\n    An FBI agent named Alethea Duncan said they think Jabbar was not the only one involved and are looking into this as an act of terrorism. \\n\\n    President Joe Biden mentioned that investigators are checking if this attack is connected to an explosion at a hotel in Las Vegas. \\n    So far, they have not found any links to the Islamic State from that incident. \\n    The police are also looking into whether the attack is related to Donald Trump, who owns the hotel, or Elon Musk, who owns the Tesla brand. \\n\\n    After the attack, a doctor confirmed that 15 people had died. \\n    It will take time to identify the victims. \\n    One of the victims was a former football player named Martin \"Tiger\" Bech, who played at Princeton University. \\n\\n    The attack happened around 3:15 AM in the French Quarter, a popular area for both locals and visitors. \\n    The police chief said Jabbar seemed to be trying to hit as many people as possible. \\n    They found a long gun with a silencer at the scene. \\n    Jabbar had rented the truck through an app and was originally from Texas. \\n\\n    He had served in the U.S. Army and had worked in different jobs, including in real estate. \\n    Witnesses described the chaos during the attack. \\n    People were running and hiding under tables, thinking it was a drill. \\n    Some visitors from Iowa saw the truck crash through a barricade and heard gunshots. \\n\\n    A hotel worker saw many bodies on the ground and ran to help. \\n    He said it was a horrific scene. \\n    President Biden expressed anger and frustration over the attack and offered support to the city. \\n    The governor of Louisiana said he was praying for the victims and first responders. \\n\\n    Because of the attack, a big college football game called the Sugar Bowl has been postponed. \\n    This tragic event turned New Year\\'s celebrations into chaos and sadness.\\n    ',\n",
       " 'category': 'earth',\n",
       " 'keywords': ['attack',\n",
       "  'terrorism',\n",
       "  'victims',\n",
       "  'investigate',\n",
       "  'New Orleans',\n",
       "  'explosion',\n",
       "  'football']}"
      ]
     },
     "execution_count": 30,
     "metadata": {},
     "output_type": "execute_result"
    }
   ],
   "source": [
    "leveled_text = convert_txt_to_steps(context, \"elementary school\")\n",
    "results = eval(leveled_text)\n",
    "results"
   ]
  },
  {
   "cell_type": "markdown",
   "metadata": {},
   "source": [
    "### Unsplash Test"
   ]
  },
  {
   "cell_type": "code",
   "execution_count": 2,
   "metadata": {},
   "outputs": [
    {
     "data": {
      "text/plain": [
       "<bound method Response.json of <Response [200]>>"
      ]
     },
     "execution_count": 2,
     "metadata": {},
     "output_type": "execute_result"
    }
   ],
   "source": [
    "import os\n",
    "import requests\n",
    "from dotenv import load_dotenv\n",
    "\n",
    "load_dotenv(verbose=True)\n",
    "unsplash_access_key = os.getenv(\"UNSPLASH_ACCESS_KEY\")\n",
    "\n",
    "url = f\"https://api.unsplash.com/photos/random?client_id={unsplash_access_key}\"\n",
    "response = requests.get(url=url)\n",
    "response.json"
   ]
  },
  {
   "cell_type": "code",
   "execution_count": 12,
   "metadata": {},
   "outputs": [
    {
     "name": "stdout",
     "output_type": "stream",
     "text": [
      "{'id': 'uTR1zs3Ky78', 'slug': 'a-cobblestone-street-lined-with-old-buildings-uTR1zs3Ky78', 'alternative_slugs': {'en': 'a-cobblestone-street-lined-with-old-buildings-uTR1zs3Ky78', 'es': 'una-calle-empedrada-bordeada-de-edificios-antiguos-uTR1zs3Ky78', 'ja': '古い建物が立ち並ぶ石畳の通り-uTR1zs3Ky78', 'fr': 'une-rue-pavee-bordee-de-vieux-batiments-uTR1zs3Ky78', 'it': 'una-strada-acciottolata-fiancheggiata-da-vecchi-edifici-uTR1zs3Ky78', 'ko': '오래된-건물이-늘어선-조약돌-거리-uTR1zs3Ky78', 'de': 'eine-kopfsteinpflasterstrasse-die-von-alten-gebauden-gesaumt-ist-uTR1zs3Ky78', 'pt': 'uma-rua-de-paralelepipedos-ladeada-por-edificios-antigos-uTR1zs3Ky78'}, 'created_at': '2024-12-18T10:04:44Z', 'updated_at': '2024-12-31T21:05:32Z', 'promoted_at': '2024-12-23T00:01:00Z', 'width': 8192, 'height': 5464, 'color': '#f3f3f3', 'blur_hash': 'LkMZ]*-;D%Vs_NxuWBWB?vbboftR', 'description': None, 'alt_description': 'A cobblestone street lined with old buildings', 'breadcrumbs': [], 'urls': {'raw': 'https://images.unsplash.com/photo-1734515932217-a5f737525cc0?ixid=M3w2OTIwNTB8MHwxfHJhbmRvbXx8fHx8fHx8fDE3MzU3MjM3MDF8&ixlib=rb-4.0.3', 'full': 'https://images.unsplash.com/photo-1734515932217-a5f737525cc0?crop=entropy&cs=srgb&fm=jpg&ixid=M3w2OTIwNTB8MHwxfHJhbmRvbXx8fHx8fHx8fDE3MzU3MjM3MDF8&ixlib=rb-4.0.3&q=85', 'regular': 'https://images.unsplash.com/photo-1734515932217-a5f737525cc0?crop=entropy&cs=tinysrgb&fit=max&fm=jpg&ixid=M3w2OTIwNTB8MHwxfHJhbmRvbXx8fHx8fHx8fDE3MzU3MjM3MDF8&ixlib=rb-4.0.3&q=80&w=1080', 'small': 'https://images.unsplash.com/photo-1734515932217-a5f737525cc0?crop=entropy&cs=tinysrgb&fit=max&fm=jpg&ixid=M3w2OTIwNTB8MHwxfHJhbmRvbXx8fHx8fHx8fDE3MzU3MjM3MDF8&ixlib=rb-4.0.3&q=80&w=400', 'thumb': 'https://images.unsplash.com/photo-1734515932217-a5f737525cc0?crop=entropy&cs=tinysrgb&fit=max&fm=jpg&ixid=M3w2OTIwNTB8MHwxfHJhbmRvbXx8fHx8fHx8fDE3MzU3MjM3MDF8&ixlib=rb-4.0.3&q=80&w=200', 'small_s3': 'https://s3.us-west-2.amazonaws.com/images.unsplash.com/small/photo-1734515932217-a5f737525cc0'}, 'links': {'self': 'https://api.unsplash.com/photos/a-cobblestone-street-lined-with-old-buildings-uTR1zs3Ky78', 'html': 'https://unsplash.com/photos/a-cobblestone-street-lined-with-old-buildings-uTR1zs3Ky78', 'download': 'https://unsplash.com/photos/uTR1zs3Ky78/download?ixid=M3w2OTIwNTB8MHwxfHJhbmRvbXx8fHx8fHx8fDE3MzU3MjM3MDF8', 'download_location': 'https://api.unsplash.com/photos/uTR1zs3Ky78/download?ixid=M3w2OTIwNTB8MHwxfHJhbmRvbXx8fHx8fHx8fDE3MzU3MjM3MDF8'}, 'likes': 12, 'liked_by_user': False, 'current_user_collections': [], 'sponsorship': None, 'topic_submissions': {}, 'asset_type': 'photo', 'user': {'id': 'IFcEhJqem0Q', 'updated_at': '2024-12-31T03:00:40Z', 'username': 'anniespratt', 'name': 'Annie Spratt', 'first_name': 'Annie', 'last_name': 'Spratt', 'twitter_username': 'anniespratt', 'portfolio_url': 'https://www.anniespratt.com', 'bio': 'Hobbyist photographer from England, sharing my digital, film + vintage scans.', 'location': 'New Forest National Park, UK', 'links': {'self': 'https://api.unsplash.com/users/anniespratt', 'html': 'https://unsplash.com/@anniespratt', 'photos': 'https://api.unsplash.com/users/anniespratt/photos', 'likes': 'https://api.unsplash.com/users/anniespratt/likes', 'portfolio': 'https://api.unsplash.com/users/anniespratt/portfolio', 'following': 'https://api.unsplash.com/users/anniespratt/following', 'followers': 'https://api.unsplash.com/users/anniespratt/followers'}, 'profile_image': {'small': 'https://images.unsplash.com/profile-1648828806223-1852f704c58aimage?ixlib=rb-4.0.3&crop=faces&fit=crop&w=32&h=32', 'medium': 'https://images.unsplash.com/profile-1648828806223-1852f704c58aimage?ixlib=rb-4.0.3&crop=faces&fit=crop&w=64&h=64', 'large': 'https://images.unsplash.com/profile-1648828806223-1852f704c58aimage?ixlib=rb-4.0.3&crop=faces&fit=crop&w=128&h=128'}, 'instagram_username': 'anniespratt', 'total_collections': 78, 'total_likes': 14511, 'total_photos': 26245, 'total_promoted_photos': 3264, 'total_illustrations': 12, 'total_promoted_illustrations': 2, 'accepted_tos': True, 'for_hire': False, 'social': {'instagram_username': 'anniespratt', 'portfolio_url': 'https://www.anniespratt.com', 'twitter_username': 'anniespratt', 'paypal_email': None}}, 'exif': {'make': None, 'model': None, 'name': None, 'exposure_time': None, 'aperture': None, 'focal_length': None, 'iso': None}, 'location': {'name': None, 'city': None, 'country': None, 'position': {'latitude': 0.0, 'longitude': 0.0}}, 'meta': {'index': True}, 'public_domain': False, 'tags': [{'type': 'search', 'title': 'quaint'}, {'type': 'search', 'title': 'festive'}, {'type': 'search', 'title': 'english village'}, {'type': 'search', 'title': 'christmas at beaulieu'}, {'type': 'search', 'title': 'christmas'}, {'type': 'search', 'title': 'beaulieu'}, {'type': 'search', 'title': 'building'}, {'type': 'search', 'title': 'housing'}, {'type': 'search', 'title': 'house'}, {'type': 'search', 'title': 'urban'}, {'type': 'search', 'title': 'city'}, {'type': 'search', 'title': 'town'}, {'type': 'search', 'title': 'automobile'}, {'type': 'search', 'title': 'car'}, {'type': 'search', 'title': 'vehicle'}, {'type': 'search', 'title': 'row house'}, {'type': 'search', 'title': 'cityscape'}, {'type': 'search', 'title': 'arch'}, {'type': 'search', 'title': 'arched'}, {'type': 'search', 'title': 'gothic arch'}], 'views': 267951, 'downloads': 4708, 'topics': []}\n",
      "<class 'dict'>\n"
     ]
    }
   ],
   "source": [
    "img_dict = response.json()\n",
    "print(img_dict)\n",
    "print(type(img_dict))"
   ]
  },
  {
   "cell_type": "code",
   "execution_count": 15,
   "metadata": {},
   "outputs": [
    {
     "data": {
      "text/plain": [
       "'https://images.unsplash.com/photo-1734515932217-a5f737525cc0?crop=entropy&cs=tinysrgb&fit=max&fm=jpg&ixid=M3w2OTIwNTB8MHwxfHJhbmRvbXx8fHx8fHx8fDE3MzU3MjM3MDF8&ixlib=rb-4.0.3&q=80&w=400'"
      ]
     },
     "execution_count": 15,
     "metadata": {},
     "output_type": "execute_result"
    }
   ],
   "source": [
    "img_dict[\"urls\"][\"small\"]"
   ]
  },
  {
   "cell_type": "code",
   "execution_count": 18,
   "metadata": {},
   "outputs": [
    {
     "name": "stdout",
     "output_type": "stream",
     "text": [
      "{'raw': 'https://images.unsplash.com/photo-1512528368222-38761bbe68dd?ixid=M3w2OTIwNTB8MHwxfHNlYXJjaHwxfHxibGFjayUyMGNhdCUyQyUyMGJsYW5rZXR8ZW58MHx8fHwxNzM1NzI5MTQ2fDA&ixlib=rb-4.0.3', 'full': 'https://images.unsplash.com/photo-1512528368222-38761bbe68dd?crop=entropy&cs=srgb&fm=jpg&ixid=M3w2OTIwNTB8MHwxfHNlYXJjaHwxfHxibGFjayUyMGNhdCUyQyUyMGJsYW5rZXR8ZW58MHx8fHwxNzM1NzI5MTQ2fDA&ixlib=rb-4.0.3&q=85', 'regular': 'https://images.unsplash.com/photo-1512528368222-38761bbe68dd?crop=entropy&cs=tinysrgb&fit=max&fm=jpg&ixid=M3w2OTIwNTB8MHwxfHNlYXJjaHwxfHxibGFjayUyMGNhdCUyQyUyMGJsYW5rZXR8ZW58MHx8fHwxNzM1NzI5MTQ2fDA&ixlib=rb-4.0.3&q=80&w=1080', 'small': 'https://images.unsplash.com/photo-1512528368222-38761bbe68dd?crop=entropy&cs=tinysrgb&fit=max&fm=jpg&ixid=M3w2OTIwNTB8MHwxfHNlYXJjaHwxfHxibGFjayUyMGNhdCUyQyUyMGJsYW5rZXR8ZW58MHx8fHwxNzM1NzI5MTQ2fDA&ixlib=rb-4.0.3&q=80&w=400', 'thumb': 'https://images.unsplash.com/photo-1512528368222-38761bbe68dd?crop=entropy&cs=tinysrgb&fit=max&fm=jpg&ixid=M3w2OTIwNTB8MHwxfHNlYXJjaHwxfHxibGFjayUyMGNhdCUyQyUyMGJsYW5rZXR8ZW58MHx8fHwxNzM1NzI5MTQ2fDA&ixlib=rb-4.0.3&q=80&w=200', 'small_s3': 'https://s3.us-west-2.amazonaws.com/images.unsplash.com/small/photo-1512528368222-38761bbe68dd'}\n"
     ]
    }
   ],
   "source": [
    "url = f\"https://api.unsplash.com/search/photos?client_id={unsplash_access_key}\"\n",
    "response = requests.get(url=url, params={\"query\": \"black cat, blanket\"})\n",
    "img_dict = response.json()\n",
    "print(img_dict[\"results\"][0][\"urls\"])"
   ]
  },
  {
   "cell_type": "markdown",
   "metadata": {},
   "source": [
    "### Sentence, Word Sim Test"
   ]
  },
  {
   "cell_type": "code",
   "execution_count": 19,
   "metadata": {},
   "outputs": [
    {
     "name": "stdout",
     "output_type": "stream",
     "text": [
      "Collecting sentence-transformers\n",
      "  Downloading sentence_transformers-3.3.1-py3-none-any.whl.metadata (10 kB)\n",
      "Collecting transformers<5.0.0,>=4.41.0 (from sentence-transformers)\n",
      "  Downloading transformers-4.47.1-py3-none-any.whl.metadata (44 kB)\n",
      "Requirement already satisfied: tqdm in /Users/park-dong-yeon/miniconda3/envs/NewsEase/lib/python3.12/site-packages (from sentence-transformers) (4.66.5)\n",
      "Collecting torch>=1.11.0 (from sentence-transformers)\n",
      "  Downloading torch-2.5.1-cp312-none-macosx_11_0_arm64.whl.metadata (28 kB)\n",
      "Collecting scikit-learn (from sentence-transformers)\n",
      "  Downloading scikit_learn-1.6.0-cp312-cp312-macosx_12_0_arm64.whl.metadata (31 kB)\n",
      "Collecting scipy (from sentence-transformers)\n",
      "  Downloading scipy-1.14.1-cp312-cp312-macosx_12_0_arm64.whl.metadata (60 kB)\n",
      "Collecting huggingface-hub>=0.20.0 (from sentence-transformers)\n",
      "  Downloading huggingface_hub-0.27.0-py3-none-any.whl.metadata (13 kB)\n",
      "Collecting Pillow (from sentence-transformers)\n",
      "  Downloading pillow-11.1.0-cp312-cp312-macosx_11_0_arm64.whl.metadata (9.1 kB)\n",
      "Collecting filelock (from huggingface-hub>=0.20.0->sentence-transformers)\n",
      "  Downloading filelock-3.16.1-py3-none-any.whl.metadata (2.9 kB)\n",
      "Collecting fsspec>=2023.5.0 (from huggingface-hub>=0.20.0->sentence-transformers)\n",
      "  Downloading fsspec-2024.12.0-py3-none-any.whl.metadata (11 kB)\n",
      "Requirement already satisfied: packaging>=20.9 in /Users/park-dong-yeon/miniconda3/envs/NewsEase/lib/python3.12/site-packages (from huggingface-hub>=0.20.0->sentence-transformers) (24.1)\n",
      "Requirement already satisfied: pyyaml>=5.1 in /Users/park-dong-yeon/miniconda3/envs/NewsEase/lib/python3.12/site-packages (from huggingface-hub>=0.20.0->sentence-transformers) (6.0.2)\n",
      "Requirement already satisfied: requests in /Users/park-dong-yeon/miniconda3/envs/NewsEase/lib/python3.12/site-packages (from huggingface-hub>=0.20.0->sentence-transformers) (2.32.3)\n",
      "Requirement already satisfied: typing-extensions>=3.7.4.3 in /Users/park-dong-yeon/miniconda3/envs/NewsEase/lib/python3.12/site-packages (from huggingface-hub>=0.20.0->sentence-transformers) (4.12.2)\n",
      "Collecting networkx (from torch>=1.11.0->sentence-transformers)\n",
      "  Downloading networkx-3.4.2-py3-none-any.whl.metadata (6.3 kB)\n",
      "Requirement already satisfied: jinja2 in /Users/park-dong-yeon/miniconda3/envs/NewsEase/lib/python3.12/site-packages (from torch>=1.11.0->sentence-transformers) (3.1.4)\n",
      "Requirement already satisfied: setuptools in /Users/park-dong-yeon/miniconda3/envs/NewsEase/lib/python3.12/site-packages (from torch>=1.11.0->sentence-transformers) (72.1.0)\n",
      "Collecting sympy==1.13.1 (from torch>=1.11.0->sentence-transformers)\n",
      "  Downloading sympy-1.13.1-py3-none-any.whl.metadata (12 kB)\n",
      "Collecting mpmath<1.4,>=1.1.0 (from sympy==1.13.1->torch>=1.11.0->sentence-transformers)\n",
      "  Downloading mpmath-1.3.0-py3-none-any.whl.metadata (8.6 kB)\n",
      "Collecting numpy>=1.17 (from transformers<5.0.0,>=4.41.0->sentence-transformers)\n",
      "  Downloading numpy-2.2.1-cp312-cp312-macosx_11_0_arm64.whl.metadata (62 kB)\n",
      "Requirement already satisfied: regex!=2019.12.17 in /Users/park-dong-yeon/miniconda3/envs/NewsEase/lib/python3.12/site-packages (from transformers<5.0.0,>=4.41.0->sentence-transformers) (2024.11.6)\n",
      "Collecting tokenizers<0.22,>=0.21 (from transformers<5.0.0,>=4.41.0->sentence-transformers)\n",
      "  Downloading tokenizers-0.21.0-cp39-abi3-macosx_11_0_arm64.whl.metadata (6.7 kB)\n",
      "Collecting safetensors>=0.4.1 (from transformers<5.0.0,>=4.41.0->sentence-transformers)\n",
      "  Downloading safetensors-0.4.5-cp312-cp312-macosx_11_0_arm64.whl.metadata (3.8 kB)\n",
      "Requirement already satisfied: joblib>=1.2.0 in /Users/park-dong-yeon/miniconda3/envs/NewsEase/lib/python3.12/site-packages (from scikit-learn->sentence-transformers) (1.4.2)\n",
      "Collecting threadpoolctl>=3.1.0 (from scikit-learn->sentence-transformers)\n",
      "  Downloading threadpoolctl-3.5.0-py3-none-any.whl.metadata (13 kB)\n",
      "Requirement already satisfied: MarkupSafe>=2.0 in /Users/park-dong-yeon/miniconda3/envs/NewsEase/lib/python3.12/site-packages (from jinja2->torch>=1.11.0->sentence-transformers) (3.0.2)\n",
      "Requirement already satisfied: charset-normalizer<4,>=2 in /Users/park-dong-yeon/miniconda3/envs/NewsEase/lib/python3.12/site-packages (from requests->huggingface-hub>=0.20.0->sentence-transformers) (3.3.2)\n",
      "Requirement already satisfied: idna<4,>=2.5 in /Users/park-dong-yeon/miniconda3/envs/NewsEase/lib/python3.12/site-packages (from requests->huggingface-hub>=0.20.0->sentence-transformers) (3.8)\n",
      "Requirement already satisfied: urllib3<3,>=1.21.1 in /Users/park-dong-yeon/miniconda3/envs/NewsEase/lib/python3.12/site-packages (from requests->huggingface-hub>=0.20.0->sentence-transformers) (2.2.2)\n",
      "Requirement already satisfied: certifi>=2017.4.17 in /Users/park-dong-yeon/miniconda3/envs/NewsEase/lib/python3.12/site-packages (from requests->huggingface-hub>=0.20.0->sentence-transformers) (2024.7.4)\n",
      "Downloading sentence_transformers-3.3.1-py3-none-any.whl (268 kB)\n",
      "Downloading huggingface_hub-0.27.0-py3-none-any.whl (450 kB)\n",
      "Downloading torch-2.5.1-cp312-none-macosx_11_0_arm64.whl (63.9 MB)\n",
      "\u001b[2K   \u001b[90m━━━━━━━━━━━━━━━━━━━━━━━━━━━━━━━━━━━━━━━━\u001b[0m \u001b[32m63.9/63.9 MB\u001b[0m \u001b[31m43.8 MB/s\u001b[0m eta \u001b[36m0:00:00\u001b[0m00:01\u001b[0m00:01\u001b[0m\n",
      "\u001b[?25hDownloading sympy-1.13.1-py3-none-any.whl (6.2 MB)\n",
      "\u001b[2K   \u001b[90m━━━━━━━━━━━━━━━━━━━━━━━━━━━━━━━━━━━━━━━━\u001b[0m \u001b[32m6.2/6.2 MB\u001b[0m \u001b[31m46.9 MB/s\u001b[0m eta \u001b[36m0:00:00\u001b[0m\n",
      "\u001b[?25hDownloading transformers-4.47.1-py3-none-any.whl (10.1 MB)\n",
      "\u001b[2K   \u001b[90m━━━━━━━━━━━━━━━━━━━━━━━━━━━━━━━━━━━━━━━━\u001b[0m \u001b[32m10.1/10.1 MB\u001b[0m \u001b[31m45.3 MB/s\u001b[0m eta \u001b[36m0:00:00\u001b[0m00:01\u001b[0m\n",
      "\u001b[?25hDownloading pillow-11.1.0-cp312-cp312-macosx_11_0_arm64.whl (3.1 MB)\n",
      "\u001b[2K   \u001b[90m━━━━━━━━━━━━━━━━━━━━━━━━━━━━━━━━━━━━━━━━\u001b[0m \u001b[32m3.1/3.1 MB\u001b[0m \u001b[31m39.5 MB/s\u001b[0m eta \u001b[36m0:00:00\u001b[0m\n",
      "\u001b[?25hDownloading scikit_learn-1.6.0-cp312-cp312-macosx_12_0_arm64.whl (11.2 MB)\n",
      "\u001b[2K   \u001b[90m━━━━━━━━━━━━━━━━━━━━━━━━━━━━━━━━━━━━━━━━\u001b[0m \u001b[32m11.2/11.2 MB\u001b[0m \u001b[31m50.3 MB/s\u001b[0m eta \u001b[36m0:00:00\u001b[0m00:01\u001b[0m\n",
      "\u001b[?25hDownloading scipy-1.14.1-cp312-cp312-macosx_12_0_arm64.whl (29.9 MB)\n",
      "\u001b[2K   \u001b[90m━━━━━━━━━━━━━━━━━━━━━━━━━━━━━━━━━━━━━━━━\u001b[0m \u001b[32m29.9/29.9 MB\u001b[0m \u001b[31m54.5 MB/s\u001b[0m eta \u001b[36m0:00:00\u001b[0ma \u001b[36m0:00:01\u001b[0m\n",
      "\u001b[?25hDownloading fsspec-2024.12.0-py3-none-any.whl (183 kB)\n",
      "Downloading numpy-2.2.1-cp312-cp312-macosx_11_0_arm64.whl (14.1 MB)\n",
      "\u001b[2K   \u001b[90m━━━━━━━━━━━━━━━━━━━━━━━━━━━━━━━━━━━━━━━━\u001b[0m \u001b[32m14.1/14.1 MB\u001b[0m \u001b[31m42.1 MB/s\u001b[0m eta \u001b[36m0:00:00\u001b[0m \u001b[36m0:00:01\u001b[0m\n",
      "\u001b[?25hDownloading safetensors-0.4.5-cp312-cp312-macosx_11_0_arm64.whl (381 kB)\n",
      "Downloading threadpoolctl-3.5.0-py3-none-any.whl (18 kB)\n",
      "Downloading tokenizers-0.21.0-cp39-abi3-macosx_11_0_arm64.whl (2.6 MB)\n",
      "\u001b[2K   \u001b[90m━━━━━━━━━━━━━━━━━━━━━━━━━━━━━━━━━━━━━━━━\u001b[0m \u001b[32m2.6/2.6 MB\u001b[0m \u001b[31m38.8 MB/s\u001b[0m eta \u001b[36m0:00:00\u001b[0m\n",
      "\u001b[?25hDownloading filelock-3.16.1-py3-none-any.whl (16 kB)\n",
      "Downloading networkx-3.4.2-py3-none-any.whl (1.7 MB)\n",
      "\u001b[2K   \u001b[90m━━━━━━━━━━━━━━━━━━━━━━━━━━━━━━━━━━━━━━━━\u001b[0m \u001b[32m1.7/1.7 MB\u001b[0m \u001b[31m45.9 MB/s\u001b[0m eta \u001b[36m0:00:00\u001b[0m\n",
      "\u001b[?25hDownloading mpmath-1.3.0-py3-none-any.whl (536 kB)\n",
      "\u001b[2K   \u001b[90m━━━━━━━━━━━━━━━━━━━━━━━━━━━━━━━━━━━━━━━━\u001b[0m \u001b[32m536.2/536.2 kB\u001b[0m \u001b[31m17.7 MB/s\u001b[0m eta \u001b[36m0:00:00\u001b[0m\n",
      "\u001b[?25hInstalling collected packages: mpmath, threadpoolctl, sympy, safetensors, Pillow, numpy, networkx, fsspec, filelock, torch, scipy, huggingface-hub, tokenizers, scikit-learn, transformers, sentence-transformers\n",
      "Successfully installed Pillow-11.1.0 filelock-3.16.1 fsspec-2024.12.0 huggingface-hub-0.27.0 mpmath-1.3.0 networkx-3.4.2 numpy-2.2.1 safetensors-0.4.5 scikit-learn-1.6.0 scipy-1.14.1 sentence-transformers-3.3.1 sympy-1.13.1 threadpoolctl-3.5.0 tokenizers-0.21.0 torch-2.5.1 transformers-4.47.1\n"
     ]
    }
   ],
   "source": [
    "!pip install sentence-transformers"
   ]
  },
  {
   "cell_type": "code",
   "execution_count": 29,
   "metadata": {},
   "outputs": [],
   "source": [
    "from sentence_transformers import SentenceTransformer\n",
    "from sklearn.metrics.pairwise import cosine_similarity\n",
    "\n",
    "# 모델 로드\n",
    "model = SentenceTransformer('sentence-transformers/all-MiniLM-L6-v2')"
   ]
  },
  {
   "cell_type": "code",
   "execution_count": 32,
   "metadata": {},
   "outputs": [],
   "source": [
    "sentences = results[\"rewrite_article\"]\n",
    "sentence_embeddings = model.encode(sentences)"
   ]
  },
  {
   "cell_type": "code",
   "execution_count": 33,
   "metadata": {},
   "outputs": [],
   "source": [
    "word_embedding = []\n",
    "for word in results[\"keywords\"]:\n",
    "    word_embedding.append(model.encode(word))"
   ]
  },
  {
   "cell_type": "code",
   "execution_count": 50,
   "metadata": {},
   "outputs": [
    {
     "name": "stdout",
     "output_type": "stream",
     "text": [
      "origin shape: (384,)\n",
      "reshaped shape: (1, 384)\n"
     ]
    },
    {
     "ename": "ValueError",
     "evalue": "Expected 2D array, got 1D array instead:\narray=[-2.75533255e-02  6.37150183e-02 -2.52408516e-02 -8.55092052e-03\n  7.04711676e-02 -2.82979794e-02  1.53779322e-02 -7.77567178e-02\n  7.08258823e-02 -4.10191454e-02  7.30010420e-02  1.02148131e-02\n  1.23317473e-01  2.69446149e-02  3.53877135e-02  3.31917778e-02\n  2.52374019e-02 -4.03871909e-02 -8.33430588e-02  1.66621059e-02\n -5.44863157e-02  1.65747311e-02  2.40899492e-02 -1.16899703e-02\n -3.10931690e-02 -1.40323145e-02  2.61776429e-02  3.19667943e-02\n -1.11051418e-01  3.19443457e-02  1.21237926e-01 -3.43433139e-03\n -1.13666110e-01  3.55782476e-03 -9.41712235e-04 -2.89851557e-02\n  5.18659316e-02  6.33020177e-02  7.52802044e-02  4.34009731e-02\n  3.19648832e-02 -1.29360303e-01 -2.55632289e-02 -2.19880100e-02\n  7.79529987e-03  6.70087943e-03 -3.76795791e-02  1.26106944e-03\n  1.22850567e-01 -3.25954184e-02 -6.08828887e-02  4.76699769e-02\n  4.93462645e-02 -4.42912243e-02  2.68398020e-02 -1.59823805e-01\n  1.42589388e-02  9.12939943e-03  4.01948951e-02  1.79209467e-02\n  2.12710500e-02 -7.39410403e-04  3.63559388e-02  1.27320737e-02\n  4.50965390e-02 -5.26050255e-02  4.50300351e-02 -5.42758964e-02\n  1.71141345e-02 -1.61122158e-02  9.41250846e-02  7.89568108e-03\n  2.78916638e-02 -3.14854495e-02 -9.53447726e-03 -9.78534296e-02\n  3.66094224e-02  6.65014088e-02  1.74904522e-02  1.23892375e-03\n  7.14929327e-02 -1.18928157e-01  9.78256669e-03 -2.93708295e-02\n  2.06816345e-02  1.61951557e-02 -5.10189757e-02  6.02687225e-02\n -4.48641144e-02  1.07383251e-01 -1.22469082e-01 -2.59145000e-03\n  3.82824726e-02  3.20542343e-02  8.44619349e-02 -3.25924307e-02\n -2.82019824e-02  5.53963520e-02 -7.68260211e-02  9.61710587e-02\n -2.65522413e-02  2.02332754e-02 -2.24901154e-03 -4.56937328e-02\n  3.82415205e-02 -8.61135498e-03 -4.42011133e-02  5.70963956e-02\n -6.10749312e-02 -4.19958355e-03  5.44668436e-02  2.70531303e-03\n -4.02126908e-02 -6.63425326e-02  4.06059623e-02 -2.06782203e-03\n -2.78140791e-02  3.59866321e-02 -6.03341125e-02 -8.16047862e-02\n  7.61415958e-02  1.37754506e-03 -4.72525513e-04  3.61822955e-02\n -3.09435127e-04  1.76484752e-02 -9.21921134e-02  1.01081466e-33\n  7.50478283e-02 -1.79379322e-02  1.94553994e-02  1.15485322e-02\n  5.73092978e-03 -5.57789858e-03 -1.15637518e-01  7.05342740e-02\n -4.57275128e-05 -3.13915499e-03 -2.03852393e-02 -4.68001701e-02\n -2.94459774e-03 -2.83514522e-02 -3.40746134e-03  8.16882029e-03\n -8.54135156e-02 -3.36979069e-02 -1.08120076e-01 -4.51242700e-02\n  2.07578447e-02  1.41593115e-03  1.82613395e-02  8.03741589e-02\n -2.73605119e-02  2.53390912e-02 -5.09775756e-03  1.10387802e-02\n -3.54986824e-02  1.42523488e-02 -9.83711109e-02  5.89127056e-02\n -1.24972714e-02  3.68928500e-02  3.48567516e-02 -1.39615731e-02\n -2.52514202e-02  3.28614679e-03 -6.94339871e-02 -8.78654197e-02\n  8.01606849e-03  4.40034568e-02 -3.39694992e-02  4.35793251e-02\n -4.71944846e-02  2.67292820e-02 -3.37289274e-02 -3.95496227e-02\n -1.90124810e-02  4.14350331e-02  5.77613013e-03 -1.25340009e-02\n -2.04767734e-02 -5.92977814e-02 -6.64823316e-03  1.02781942e-02\n -3.54824215e-03 -3.02227493e-02  1.11085385e-01  2.58415863e-02\n  1.89773887e-02  7.47390240e-02 -4.90469448e-02  8.81263614e-02\n -6.35019690e-02 -8.09761956e-02  4.60865349e-02  4.74857911e-02\n -5.49924467e-03  3.77752818e-02  9.23328400e-02  5.50628752e-02\n  6.64286837e-02 -4.73497026e-02 -1.41153792e-02 -1.28921410e-02\n  2.34952122e-02  1.93983279e-02 -3.06507889e-02  2.03695297e-02\n  1.06161736e-01 -2.21184641e-02  1.55823141e-01 -2.22325362e-02\n -9.46694687e-02  8.08076411e-02 -1.16674067e-03 -4.70693670e-02\n -3.19461972e-02  4.67446297e-02 -1.21909328e-01  3.18799242e-02\n -1.48066203e-04 -2.26216707e-02 -7.30692819e-02 -3.19837503e-33\n -3.75995263e-02 -1.12257032e-02  2.29634698e-02  8.11092183e-03\n  3.14309373e-02 -7.10809231e-02 -2.66142213e-03  2.93724257e-02\n  7.20130131e-02 -1.48690883e-02  1.49676334e-02 -3.22519951e-02\n  5.17595150e-02  1.00081144e-02  2.79592406e-02  1.20338062e-02\n  4.55085076e-02 -2.12161262e-02 -1.28283739e-01  2.25771964e-02\n  3.26584168e-02  5.92346750e-02 -9.19957384e-02  2.90275291e-02\n -4.02241247e-03  2.04686634e-02  1.21404804e-01  2.90032243e-04\n -1.10665821e-02  9.72246577e-04 -5.23746088e-02 -5.70677454e-03\n  2.17125118e-02  2.50010975e-02 -2.29241457e-02  7.61915520e-02\n  6.34380504e-02 -1.51037741e-02 -2.80599631e-02 -2.81196479e-02\n  6.44013286e-02  9.39551517e-02 -1.08282164e-01  5.45298606e-02\n -2.96382010e-02  2.08873171e-02 -1.10744534e-03  4.07571830e-02\n  2.09289193e-02 -3.29742581e-02 -4.44719009e-03 -1.12818731e-02\n -6.33298755e-02  4.87028472e-02 -2.02213954e-02  1.87084246e-02\n -3.33202146e-02 -1.28719294e-02  2.80441232e-02 -5.45080565e-02\n -3.03413346e-02 -2.15118024e-02  1.53688854e-02 -2.72155777e-02\n -2.72871740e-02 -6.18901439e-02 -3.56067233e-02 -5.99935688e-02\n  1.78483129e-02  2.83110663e-02  7.93349594e-02 -4.07687612e-02\n -9.47016999e-02 -6.35947883e-02  3.85787035e-03 -1.90876257e-02\n -8.94213617e-02  9.20831040e-02 -1.10829018e-01  4.32416722e-02\n  3.87830809e-02 -8.08643252e-02 -8.82882848e-02  3.69672924e-02\n  8.64755884e-02  4.21298966e-02  7.30466247e-02 -5.73409945e-02\n -2.98779458e-02  1.69533473e-02 -2.39326227e-02 -1.89236123e-02\n -7.40233250e-03  3.13493833e-02 -9.53825787e-02 -6.02422787e-08\n -2.31089685e-02  4.35194708e-02 -5.23514338e-02 -1.07226027e-02\n  4.49450910e-02 -1.57246643e-04  2.97843060e-03 -4.21910249e-02\n  1.64568182e-02  7.06852749e-02  6.48231208e-02  4.51062992e-02\n -1.52686015e-02  7.01143034e-03 -6.95999637e-02  5.81061235e-03\n  2.91646197e-02 -5.52076905e-04 -1.87217779e-02  2.26977300e-02\n  5.53162210e-02  2.16752831e-02  1.26820672e-02  6.38897493e-02\n  8.67681950e-02 -1.01083694e-02 -1.08629085e-01 -9.12033021e-03\n  3.88141796e-02 -2.58480776e-02 -1.04637489e-01  2.96364538e-03\n -6.71663061e-02 -1.11299314e-01 -5.85219637e-02 -3.95294046e-03\n  2.80290898e-02 -1.83113441e-02  6.45842701e-02  1.19829727e-02\n -4.06581350e-02  1.65143551e-03  7.15402234e-03  4.71293405e-02\n -3.13038342e-02 -2.69961972e-02 -5.79379164e-02 -6.69225231e-02\n -5.02572171e-02 -1.55542698e-02  6.60322607e-02 -9.40919481e-03\n  7.63239013e-03  5.35513908e-02  1.25469025e-02  1.59839541e-02\n  7.07818335e-03 -4.34494065e-03  8.66963938e-02 -5.51419966e-02\n  3.74021493e-02 -5.70273101e-02  1.31372397e-03  3.75000504e-03].\nReshape your data either using array.reshape(-1, 1) if your data has a single feature or array.reshape(1, -1) if it contains a single sample.",
     "output_type": "error",
     "traceback": [
      "\u001b[0;31m---------------------------------------------------------------------------\u001b[0m",
      "\u001b[0;31mValueError\u001b[0m                                Traceback (most recent call last)",
      "Cell \u001b[0;32mIn[50], line 10\u001b[0m\n\u001b[1;32m      8\u001b[0m     reshaped_data \u001b[38;5;241m=\u001b[39m data\u001b[38;5;241m.\u001b[39mreshape(\u001b[38;5;241m1\u001b[39m, \u001b[38;5;241m-\u001b[39m\u001b[38;5;241m1\u001b[39m)\n\u001b[1;32m      9\u001b[0m     \u001b[38;5;28mprint\u001b[39m(\u001b[38;5;124mf\u001b[39m\u001b[38;5;124m\"\u001b[39m\u001b[38;5;124mreshaped shape: \u001b[39m\u001b[38;5;132;01m{\u001b[39;00mreshaped_data\u001b[38;5;241m.\u001b[39mshape\u001b[38;5;132;01m}\u001b[39;00m\u001b[38;5;124m\"\u001b[39m)\n\u001b[0;32m---> 10\u001b[0m     sim \u001b[38;5;241m=\u001b[39m \u001b[43mcosine_similarity\u001b[49m\u001b[43m(\u001b[49m\u001b[43mreshaped_data\u001b[49m\u001b[43m,\u001b[49m\u001b[43m \u001b[49m\u001b[43msentence_embeddings\u001b[49m\u001b[43m)\u001b[49m\n\u001b[1;32m     11\u001b[0m     \u001b[38;5;66;03m# word_sims.append(sim)\u001b[39;00m\n\u001b[1;32m     12\u001b[0m \n\u001b[1;32m     13\u001b[0m \u001b[38;5;66;03m# # 5. 결과 출력\u001b[39;00m\n\u001b[1;32m     14\u001b[0m \u001b[38;5;66;03m# for i, sentence in enumerate(word_sims):\u001b[39;00m\n\u001b[1;32m     15\u001b[0m \u001b[38;5;66;03m#     print(f\"Similarity between '{word}' and 'sentence': {word_sims[0][i]:.4f}\")\u001b[39;00m\n",
      "File \u001b[0;32m~/miniconda3/envs/NewsEase/lib/python3.12/site-packages/sklearn/utils/_param_validation.py:216\u001b[0m, in \u001b[0;36mvalidate_params.<locals>.decorator.<locals>.wrapper\u001b[0;34m(*args, **kwargs)\u001b[0m\n\u001b[1;32m    210\u001b[0m \u001b[38;5;28;01mtry\u001b[39;00m:\n\u001b[1;32m    211\u001b[0m     \u001b[38;5;28;01mwith\u001b[39;00m config_context(\n\u001b[1;32m    212\u001b[0m         skip_parameter_validation\u001b[38;5;241m=\u001b[39m(\n\u001b[1;32m    213\u001b[0m             prefer_skip_nested_validation \u001b[38;5;129;01mor\u001b[39;00m global_skip_validation\n\u001b[1;32m    214\u001b[0m         )\n\u001b[1;32m    215\u001b[0m     ):\n\u001b[0;32m--> 216\u001b[0m         \u001b[38;5;28;01mreturn\u001b[39;00m \u001b[43mfunc\u001b[49m\u001b[43m(\u001b[49m\u001b[38;5;241;43m*\u001b[39;49m\u001b[43margs\u001b[49m\u001b[43m,\u001b[49m\u001b[43m \u001b[49m\u001b[38;5;241;43m*\u001b[39;49m\u001b[38;5;241;43m*\u001b[39;49m\u001b[43mkwargs\u001b[49m\u001b[43m)\u001b[49m\n\u001b[1;32m    217\u001b[0m \u001b[38;5;28;01mexcept\u001b[39;00m InvalidParameterError \u001b[38;5;28;01mas\u001b[39;00m e:\n\u001b[1;32m    218\u001b[0m     \u001b[38;5;66;03m# When the function is just a wrapper around an estimator, we allow\u001b[39;00m\n\u001b[1;32m    219\u001b[0m     \u001b[38;5;66;03m# the function to delegate validation to the estimator, but we replace\u001b[39;00m\n\u001b[1;32m    220\u001b[0m     \u001b[38;5;66;03m# the name of the estimator by the name of the function in the error\u001b[39;00m\n\u001b[1;32m    221\u001b[0m     \u001b[38;5;66;03m# message to avoid confusion.\u001b[39;00m\n\u001b[1;32m    222\u001b[0m     msg \u001b[38;5;241m=\u001b[39m re\u001b[38;5;241m.\u001b[39msub(\n\u001b[1;32m    223\u001b[0m         \u001b[38;5;124mr\u001b[39m\u001b[38;5;124m\"\u001b[39m\u001b[38;5;124mparameter of \u001b[39m\u001b[38;5;124m\\\u001b[39m\u001b[38;5;124mw+ must be\u001b[39m\u001b[38;5;124m\"\u001b[39m,\n\u001b[1;32m    224\u001b[0m         \u001b[38;5;124mf\u001b[39m\u001b[38;5;124m\"\u001b[39m\u001b[38;5;124mparameter of \u001b[39m\u001b[38;5;132;01m{\u001b[39;00mfunc\u001b[38;5;241m.\u001b[39m\u001b[38;5;18m__qualname__\u001b[39m\u001b[38;5;132;01m}\u001b[39;00m\u001b[38;5;124m must be\u001b[39m\u001b[38;5;124m\"\u001b[39m,\n\u001b[1;32m    225\u001b[0m         \u001b[38;5;28mstr\u001b[39m(e),\n\u001b[1;32m    226\u001b[0m     )\n",
      "File \u001b[0;32m~/miniconda3/envs/NewsEase/lib/python3.12/site-packages/sklearn/metrics/pairwise.py:1741\u001b[0m, in \u001b[0;36mcosine_similarity\u001b[0;34m(X, Y, dense_output)\u001b[0m\n\u001b[1;32m   1695\u001b[0m \u001b[38;5;250m\u001b[39m\u001b[38;5;124;03m\"\"\"Compute cosine similarity between samples in X and Y.\u001b[39;00m\n\u001b[1;32m   1696\u001b[0m \n\u001b[1;32m   1697\u001b[0m \u001b[38;5;124;03mCosine similarity, or the cosine kernel, computes similarity as the\u001b[39;00m\n\u001b[0;32m   (...)\u001b[0m\n\u001b[1;32m   1737\u001b[0m \u001b[38;5;124;03m       [0.57..., 0.81...]])\u001b[39;00m\n\u001b[1;32m   1738\u001b[0m \u001b[38;5;124;03m\"\"\"\u001b[39;00m\n\u001b[1;32m   1739\u001b[0m \u001b[38;5;66;03m# to avoid recursive import\u001b[39;00m\n\u001b[0;32m-> 1741\u001b[0m X, Y \u001b[38;5;241m=\u001b[39m \u001b[43mcheck_pairwise_arrays\u001b[49m\u001b[43m(\u001b[49m\u001b[43mX\u001b[49m\u001b[43m,\u001b[49m\u001b[43m \u001b[49m\u001b[43mY\u001b[49m\u001b[43m)\u001b[49m\n\u001b[1;32m   1743\u001b[0m X_normalized \u001b[38;5;241m=\u001b[39m normalize(X, copy\u001b[38;5;241m=\u001b[39m\u001b[38;5;28;01mTrue\u001b[39;00m)\n\u001b[1;32m   1744\u001b[0m \u001b[38;5;28;01mif\u001b[39;00m X \u001b[38;5;129;01mis\u001b[39;00m Y:\n",
      "File \u001b[0;32m~/miniconda3/envs/NewsEase/lib/python3.12/site-packages/sklearn/metrics/pairwise.py:209\u001b[0m, in \u001b[0;36mcheck_pairwise_arrays\u001b[0;34m(X, Y, precomputed, dtype, accept_sparse, force_all_finite, ensure_all_finite, ensure_2d, copy)\u001b[0m\n\u001b[1;32m    199\u001b[0m \u001b[38;5;28;01melse\u001b[39;00m:\n\u001b[1;32m    200\u001b[0m     X \u001b[38;5;241m=\u001b[39m check_array(\n\u001b[1;32m    201\u001b[0m         X,\n\u001b[1;32m    202\u001b[0m         accept_sparse\u001b[38;5;241m=\u001b[39maccept_sparse,\n\u001b[0;32m   (...)\u001b[0m\n\u001b[1;32m    207\u001b[0m         ensure_2d\u001b[38;5;241m=\u001b[39mensure_2d,\n\u001b[1;32m    208\u001b[0m     )\n\u001b[0;32m--> 209\u001b[0m     Y \u001b[38;5;241m=\u001b[39m \u001b[43mcheck_array\u001b[49m\u001b[43m(\u001b[49m\n\u001b[1;32m    210\u001b[0m \u001b[43m        \u001b[49m\u001b[43mY\u001b[49m\u001b[43m,\u001b[49m\n\u001b[1;32m    211\u001b[0m \u001b[43m        \u001b[49m\u001b[43maccept_sparse\u001b[49m\u001b[38;5;241;43m=\u001b[39;49m\u001b[43maccept_sparse\u001b[49m\u001b[43m,\u001b[49m\n\u001b[1;32m    212\u001b[0m \u001b[43m        \u001b[49m\u001b[43mdtype\u001b[49m\u001b[38;5;241;43m=\u001b[39;49m\u001b[43mdtype\u001b[49m\u001b[43m,\u001b[49m\n\u001b[1;32m    213\u001b[0m \u001b[43m        \u001b[49m\u001b[43mcopy\u001b[49m\u001b[38;5;241;43m=\u001b[39;49m\u001b[43mcopy\u001b[49m\u001b[43m,\u001b[49m\n\u001b[1;32m    214\u001b[0m \u001b[43m        \u001b[49m\u001b[43mensure_all_finite\u001b[49m\u001b[38;5;241;43m=\u001b[39;49m\u001b[43mensure_all_finite\u001b[49m\u001b[43m,\u001b[49m\n\u001b[1;32m    215\u001b[0m \u001b[43m        \u001b[49m\u001b[43mestimator\u001b[49m\u001b[38;5;241;43m=\u001b[39;49m\u001b[43mestimator\u001b[49m\u001b[43m,\u001b[49m\n\u001b[1;32m    216\u001b[0m \u001b[43m        \u001b[49m\u001b[43mensure_2d\u001b[49m\u001b[38;5;241;43m=\u001b[39;49m\u001b[43mensure_2d\u001b[49m\u001b[43m,\u001b[49m\n\u001b[1;32m    217\u001b[0m \u001b[43m    \u001b[49m\u001b[43m)\u001b[49m\n\u001b[1;32m    219\u001b[0m \u001b[38;5;28;01mif\u001b[39;00m precomputed:\n\u001b[1;32m    220\u001b[0m     \u001b[38;5;28;01mif\u001b[39;00m X\u001b[38;5;241m.\u001b[39mshape[\u001b[38;5;241m1\u001b[39m] \u001b[38;5;241m!=\u001b[39m Y\u001b[38;5;241m.\u001b[39mshape[\u001b[38;5;241m0\u001b[39m]:\n",
      "File \u001b[0;32m~/miniconda3/envs/NewsEase/lib/python3.12/site-packages/sklearn/utils/validation.py:1093\u001b[0m, in \u001b[0;36mcheck_array\u001b[0;34m(array, accept_sparse, accept_large_sparse, dtype, order, copy, force_writeable, force_all_finite, ensure_all_finite, ensure_non_negative, ensure_2d, allow_nd, ensure_min_samples, ensure_min_features, estimator, input_name)\u001b[0m\n\u001b[1;32m   1086\u001b[0m         \u001b[38;5;28;01melse\u001b[39;00m:\n\u001b[1;32m   1087\u001b[0m             msg \u001b[38;5;241m=\u001b[39m (\n\u001b[1;32m   1088\u001b[0m                 \u001b[38;5;124mf\u001b[39m\u001b[38;5;124m\"\u001b[39m\u001b[38;5;124mExpected 2D array, got 1D array instead:\u001b[39m\u001b[38;5;130;01m\\n\u001b[39;00m\u001b[38;5;124marray=\u001b[39m\u001b[38;5;132;01m{\u001b[39;00marray\u001b[38;5;132;01m}\u001b[39;00m\u001b[38;5;124m.\u001b[39m\u001b[38;5;130;01m\\n\u001b[39;00m\u001b[38;5;124m\"\u001b[39m\n\u001b[1;32m   1089\u001b[0m                 \u001b[38;5;124m\"\u001b[39m\u001b[38;5;124mReshape your data either using array.reshape(-1, 1) if \u001b[39m\u001b[38;5;124m\"\u001b[39m\n\u001b[1;32m   1090\u001b[0m                 \u001b[38;5;124m\"\u001b[39m\u001b[38;5;124myour data has a single feature or array.reshape(1, -1) \u001b[39m\u001b[38;5;124m\"\u001b[39m\n\u001b[1;32m   1091\u001b[0m                 \u001b[38;5;124m\"\u001b[39m\u001b[38;5;124mif it contains a single sample.\u001b[39m\u001b[38;5;124m\"\u001b[39m\n\u001b[1;32m   1092\u001b[0m             )\n\u001b[0;32m-> 1093\u001b[0m         \u001b[38;5;28;01mraise\u001b[39;00m \u001b[38;5;167;01mValueError\u001b[39;00m(msg)\n\u001b[1;32m   1095\u001b[0m \u001b[38;5;28;01mif\u001b[39;00m dtype_numeric \u001b[38;5;129;01mand\u001b[39;00m \u001b[38;5;28mhasattr\u001b[39m(array\u001b[38;5;241m.\u001b[39mdtype, \u001b[38;5;124m\"\u001b[39m\u001b[38;5;124mkind\u001b[39m\u001b[38;5;124m\"\u001b[39m) \u001b[38;5;129;01mand\u001b[39;00m array\u001b[38;5;241m.\u001b[39mdtype\u001b[38;5;241m.\u001b[39mkind \u001b[38;5;129;01min\u001b[39;00m \u001b[38;5;124m\"\u001b[39m\u001b[38;5;124mUSV\u001b[39m\u001b[38;5;124m\"\u001b[39m:\n\u001b[1;32m   1096\u001b[0m     \u001b[38;5;28;01mraise\u001b[39;00m \u001b[38;5;167;01mValueError\u001b[39;00m(\n\u001b[1;32m   1097\u001b[0m         \u001b[38;5;124m\"\u001b[39m\u001b[38;5;124mdtype=\u001b[39m\u001b[38;5;124m'\u001b[39m\u001b[38;5;124mnumeric\u001b[39m\u001b[38;5;124m'\u001b[39m\u001b[38;5;124m is not compatible with arrays of bytes/strings.\u001b[39m\u001b[38;5;124m\"\u001b[39m\n\u001b[1;32m   1098\u001b[0m         \u001b[38;5;124m\"\u001b[39m\u001b[38;5;124mConvert your data to numeric values explicitly instead.\u001b[39m\u001b[38;5;124m\"\u001b[39m\n\u001b[1;32m   1099\u001b[0m     )\n",
      "\u001b[0;31mValueError\u001b[0m: Expected 2D array, got 1D array instead:\narray=[-2.75533255e-02  6.37150183e-02 -2.52408516e-02 -8.55092052e-03\n  7.04711676e-02 -2.82979794e-02  1.53779322e-02 -7.77567178e-02\n  7.08258823e-02 -4.10191454e-02  7.30010420e-02  1.02148131e-02\n  1.23317473e-01  2.69446149e-02  3.53877135e-02  3.31917778e-02\n  2.52374019e-02 -4.03871909e-02 -8.33430588e-02  1.66621059e-02\n -5.44863157e-02  1.65747311e-02  2.40899492e-02 -1.16899703e-02\n -3.10931690e-02 -1.40323145e-02  2.61776429e-02  3.19667943e-02\n -1.11051418e-01  3.19443457e-02  1.21237926e-01 -3.43433139e-03\n -1.13666110e-01  3.55782476e-03 -9.41712235e-04 -2.89851557e-02\n  5.18659316e-02  6.33020177e-02  7.52802044e-02  4.34009731e-02\n  3.19648832e-02 -1.29360303e-01 -2.55632289e-02 -2.19880100e-02\n  7.79529987e-03  6.70087943e-03 -3.76795791e-02  1.26106944e-03\n  1.22850567e-01 -3.25954184e-02 -6.08828887e-02  4.76699769e-02\n  4.93462645e-02 -4.42912243e-02  2.68398020e-02 -1.59823805e-01\n  1.42589388e-02  9.12939943e-03  4.01948951e-02  1.79209467e-02\n  2.12710500e-02 -7.39410403e-04  3.63559388e-02  1.27320737e-02\n  4.50965390e-02 -5.26050255e-02  4.50300351e-02 -5.42758964e-02\n  1.71141345e-02 -1.61122158e-02  9.41250846e-02  7.89568108e-03\n  2.78916638e-02 -3.14854495e-02 -9.53447726e-03 -9.78534296e-02\n  3.66094224e-02  6.65014088e-02  1.74904522e-02  1.23892375e-03\n  7.14929327e-02 -1.18928157e-01  9.78256669e-03 -2.93708295e-02\n  2.06816345e-02  1.61951557e-02 -5.10189757e-02  6.02687225e-02\n -4.48641144e-02  1.07383251e-01 -1.22469082e-01 -2.59145000e-03\n  3.82824726e-02  3.20542343e-02  8.44619349e-02 -3.25924307e-02\n -2.82019824e-02  5.53963520e-02 -7.68260211e-02  9.61710587e-02\n -2.65522413e-02  2.02332754e-02 -2.24901154e-03 -4.56937328e-02\n  3.82415205e-02 -8.61135498e-03 -4.42011133e-02  5.70963956e-02\n -6.10749312e-02 -4.19958355e-03  5.44668436e-02  2.70531303e-03\n -4.02126908e-02 -6.63425326e-02  4.06059623e-02 -2.06782203e-03\n -2.78140791e-02  3.59866321e-02 -6.03341125e-02 -8.16047862e-02\n  7.61415958e-02  1.37754506e-03 -4.72525513e-04  3.61822955e-02\n -3.09435127e-04  1.76484752e-02 -9.21921134e-02  1.01081466e-33\n  7.50478283e-02 -1.79379322e-02  1.94553994e-02  1.15485322e-02\n  5.73092978e-03 -5.57789858e-03 -1.15637518e-01  7.05342740e-02\n -4.57275128e-05 -3.13915499e-03 -2.03852393e-02 -4.68001701e-02\n -2.94459774e-03 -2.83514522e-02 -3.40746134e-03  8.16882029e-03\n -8.54135156e-02 -3.36979069e-02 -1.08120076e-01 -4.51242700e-02\n  2.07578447e-02  1.41593115e-03  1.82613395e-02  8.03741589e-02\n -2.73605119e-02  2.53390912e-02 -5.09775756e-03  1.10387802e-02\n -3.54986824e-02  1.42523488e-02 -9.83711109e-02  5.89127056e-02\n -1.24972714e-02  3.68928500e-02  3.48567516e-02 -1.39615731e-02\n -2.52514202e-02  3.28614679e-03 -6.94339871e-02 -8.78654197e-02\n  8.01606849e-03  4.40034568e-02 -3.39694992e-02  4.35793251e-02\n -4.71944846e-02  2.67292820e-02 -3.37289274e-02 -3.95496227e-02\n -1.90124810e-02  4.14350331e-02  5.77613013e-03 -1.25340009e-02\n -2.04767734e-02 -5.92977814e-02 -6.64823316e-03  1.02781942e-02\n -3.54824215e-03 -3.02227493e-02  1.11085385e-01  2.58415863e-02\n  1.89773887e-02  7.47390240e-02 -4.90469448e-02  8.81263614e-02\n -6.35019690e-02 -8.09761956e-02  4.60865349e-02  4.74857911e-02\n -5.49924467e-03  3.77752818e-02  9.23328400e-02  5.50628752e-02\n  6.64286837e-02 -4.73497026e-02 -1.41153792e-02 -1.28921410e-02\n  2.34952122e-02  1.93983279e-02 -3.06507889e-02  2.03695297e-02\n  1.06161736e-01 -2.21184641e-02  1.55823141e-01 -2.22325362e-02\n -9.46694687e-02  8.08076411e-02 -1.16674067e-03 -4.70693670e-02\n -3.19461972e-02  4.67446297e-02 -1.21909328e-01  3.18799242e-02\n -1.48066203e-04 -2.26216707e-02 -7.30692819e-02 -3.19837503e-33\n -3.75995263e-02 -1.12257032e-02  2.29634698e-02  8.11092183e-03\n  3.14309373e-02 -7.10809231e-02 -2.66142213e-03  2.93724257e-02\n  7.20130131e-02 -1.48690883e-02  1.49676334e-02 -3.22519951e-02\n  5.17595150e-02  1.00081144e-02  2.79592406e-02  1.20338062e-02\n  4.55085076e-02 -2.12161262e-02 -1.28283739e-01  2.25771964e-02\n  3.26584168e-02  5.92346750e-02 -9.19957384e-02  2.90275291e-02\n -4.02241247e-03  2.04686634e-02  1.21404804e-01  2.90032243e-04\n -1.10665821e-02  9.72246577e-04 -5.23746088e-02 -5.70677454e-03\n  2.17125118e-02  2.50010975e-02 -2.29241457e-02  7.61915520e-02\n  6.34380504e-02 -1.51037741e-02 -2.80599631e-02 -2.81196479e-02\n  6.44013286e-02  9.39551517e-02 -1.08282164e-01  5.45298606e-02\n -2.96382010e-02  2.08873171e-02 -1.10744534e-03  4.07571830e-02\n  2.09289193e-02 -3.29742581e-02 -4.44719009e-03 -1.12818731e-02\n -6.33298755e-02  4.87028472e-02 -2.02213954e-02  1.87084246e-02\n -3.33202146e-02 -1.28719294e-02  2.80441232e-02 -5.45080565e-02\n -3.03413346e-02 -2.15118024e-02  1.53688854e-02 -2.72155777e-02\n -2.72871740e-02 -6.18901439e-02 -3.56067233e-02 -5.99935688e-02\n  1.78483129e-02  2.83110663e-02  7.93349594e-02 -4.07687612e-02\n -9.47016999e-02 -6.35947883e-02  3.85787035e-03 -1.90876257e-02\n -8.94213617e-02  9.20831040e-02 -1.10829018e-01  4.32416722e-02\n  3.87830809e-02 -8.08643252e-02 -8.82882848e-02  3.69672924e-02\n  8.64755884e-02  4.21298966e-02  7.30466247e-02 -5.73409945e-02\n -2.98779458e-02  1.69533473e-02 -2.39326227e-02 -1.89236123e-02\n -7.40233250e-03  3.13493833e-02 -9.53825787e-02 -6.02422787e-08\n -2.31089685e-02  4.35194708e-02 -5.23514338e-02 -1.07226027e-02\n  4.49450910e-02 -1.57246643e-04  2.97843060e-03 -4.21910249e-02\n  1.64568182e-02  7.06852749e-02  6.48231208e-02  4.51062992e-02\n -1.52686015e-02  7.01143034e-03 -6.95999637e-02  5.81061235e-03\n  2.91646197e-02 -5.52076905e-04 -1.87217779e-02  2.26977300e-02\n  5.53162210e-02  2.16752831e-02  1.26820672e-02  6.38897493e-02\n  8.67681950e-02 -1.01083694e-02 -1.08629085e-01 -9.12033021e-03\n  3.88141796e-02 -2.58480776e-02 -1.04637489e-01  2.96364538e-03\n -6.71663061e-02 -1.11299314e-01 -5.85219637e-02 -3.95294046e-03\n  2.80290898e-02 -1.83113441e-02  6.45842701e-02  1.19829727e-02\n -4.06581350e-02  1.65143551e-03  7.15402234e-03  4.71293405e-02\n -3.13038342e-02 -2.69961972e-02 -5.79379164e-02 -6.69225231e-02\n -5.02572171e-02 -1.55542698e-02  6.60322607e-02 -9.40919481e-03\n  7.63239013e-03  5.35513908e-02  1.25469025e-02  1.59839541e-02\n  7.07818335e-03 -4.34494065e-03  8.66963938e-02 -5.51419966e-02\n  3.74021493e-02 -5.70273101e-02  1.31372397e-03  3.75000504e-03].\nReshape your data either using array.reshape(-1, 1) if your data has a single feature or array.reshape(1, -1) if it contains a single sample."
     ]
    }
   ],
   "source": [
    "import numpy as np\n",
    "\n",
    "word_sims = []\n",
    "# 4. 코사인 유사도 계산\n",
    "for em in word_embedding:\n",
    "    data = np.array(em)\n",
    "    print(f\"origin shape: {data.shape}\")\n",
    "    reshaped_data = data.reshape(1, -1)\n",
    "    print(f\"reshaped shape: {reshaped_data.shape}\")\n",
    "    sim = cosine_similarity(reshaped_data, sentence_embeddings)\n",
    "    # word_sims.append(sim)\n",
    "\n",
    "# # 5. 결과 출력\n",
    "# for i, sentence in enumerate(word_sims):\n",
    "#     print(f\"Similarity between '{word}' and 'sentence': {word_sims[0][i]:.4f}\")"
   ]
  }
 ],
 "metadata": {
  "kernelspec": {
   "display_name": "NewsEase",
   "language": "python",
   "name": "python3"
  },
  "language_info": {
   "codemirror_mode": {
    "name": "ipython",
    "version": 3
   },
   "file_extension": ".py",
   "mimetype": "text/x-python",
   "name": "python",
   "nbconvert_exporter": "python",
   "pygments_lexer": "ipython3",
   "version": "3.12.4"
  }
 },
 "nbformat": 4,
 "nbformat_minor": 2
}
